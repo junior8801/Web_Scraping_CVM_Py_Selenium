{
  "nbformat": 4,
  "nbformat_minor": 0,
  "metadata": {
    "colab": {
      "name": "Web_Scraping_CVM_Py_Selenium.ipynb",
      "provenance": [],
      "collapsed_sections": [],
      "authorship_tag": "ABX9TyP6oFZDw0VPmY2xqwm5WlXB",
      "include_colab_link": true
    },
    "kernelspec": {
      "name": "python3",
      "display_name": "Python 3"
    },
    "language_info": {
      "name": "python"
    }
  },
  "cells": [
    {
      "cell_type": "markdown",
      "metadata": {
        "id": "view-in-github",
        "colab_type": "text"
      },
      "source": [
        "<a href=\"https://colab.research.google.com/github/junior8801/Web_Scraping_CVM_Py_Selenium/blob/main/Web_Scraping_CVM_Py_Selenium.ipynb\" target=\"_parent\"><img src=\"https://colab.research.google.com/assets/colab-badge.svg\" alt=\"Open In Colab\"/></a>"
      ]
    },
    {
      "cell_type": "markdown",
      "metadata": {
        "id": "LFfqV5T0Xod5"
      },
      "source": [
        "#Web Scraping Composição do Índice Bovespa"
      ]
    },
    {
      "cell_type": "markdown",
      "metadata": {
        "id": "P3Bd5Hg6X_A6"
      },
      "source": [
        "Fonte: https://sistemaswebb3-listados.b3.com.br/indexPage/day/IBOV?language=pt-br\n"
      ]
    },
    {
      "cell_type": "markdown",
      "metadata": {
        "id": "1BulkfGeYB0E"
      },
      "source": [
        "##Bibliotecas"
      ]
    },
    {
      "cell_type": "code",
      "metadata": {
        "id": "MZPFyvZ0XjEo",
        "outputId": "4613089b-527e-43da-93e1-a6399302215f",
        "colab": {
          "base_uri": "https://localhost:8080/"
        }
      },
      "source": [
        "!pip install -q kora"
      ],
      "execution_count": 1,
      "outputs": [
        {
          "output_type": "stream",
          "name": "stdout",
          "text": [
            "\u001b[?25l\r\u001b[K     |█████▊                          | 10 kB 22.2 MB/s eta 0:00:01\r\u001b[K     |███████████▍                    | 20 kB 19.5 MB/s eta 0:00:01\r\u001b[K     |█████████████████               | 30 kB 11.3 MB/s eta 0:00:01\r\u001b[K     |██████████████████████▊         | 40 kB 9.6 MB/s eta 0:00:01\r\u001b[K     |████████████████████████████▍   | 51 kB 5.5 MB/s eta 0:00:01\r\u001b[K     |████████████████████████████████| 57 kB 2.3 MB/s \n",
            "\u001b[?25h\u001b[?25l\r\u001b[K     |█████▉                          | 10 kB 20.8 MB/s eta 0:00:01\r\u001b[K     |███████████▊                    | 20 kB 25.2 MB/s eta 0:00:01\r\u001b[K     |█████████████████▌              | 30 kB 30.3 MB/s eta 0:00:01\r\u001b[K     |███████████████████████▍        | 40 kB 34.5 MB/s eta 0:00:01\r\u001b[K     |█████████████████████████████▎  | 51 kB 38.3 MB/s eta 0:00:01\r\u001b[K     |████████████████████████████████| 56 kB 3.0 MB/s \n",
            "\u001b[?25h"
          ]
        }
      ]
    },
    {
      "cell_type": "code",
      "metadata": {
        "colab": {
          "base_uri": "https://localhost:8080/"
        },
        "id": "USXjYRcSYHZO",
        "outputId": "20b845ce-8b4d-4b42-9022-a3b9a20ef596"
      },
      "source": [
        "!pip install -U plotly"
      ],
      "execution_count": 2,
      "outputs": [
        {
          "output_type": "stream",
          "name": "stdout",
          "text": [
            "Requirement already satisfied: plotly in /usr/local/lib/python3.7/dist-packages (4.4.1)\n",
            "Collecting plotly\n",
            "  Downloading plotly-5.3.0-py2.py3-none-any.whl (22.9 MB)\n",
            "\u001b[K     |████████████████████████████████| 22.9 MB 1.4 MB/s \n",
            "\u001b[?25hCollecting tenacity>=6.2.0\n",
            "  Downloading tenacity-8.0.1-py3-none-any.whl (24 kB)\n",
            "Requirement already satisfied: six in /usr/local/lib/python3.7/dist-packages (from plotly) (1.15.0)\n",
            "Installing collected packages: tenacity, plotly\n",
            "  Attempting uninstall: plotly\n",
            "    Found existing installation: plotly 4.4.1\n",
            "    Uninstalling plotly-4.4.1:\n",
            "      Successfully uninstalled plotly-4.4.1\n",
            "Successfully installed plotly-5.3.0 tenacity-8.0.1\n"
          ]
        }
      ]
    },
    {
      "cell_type": "code",
      "metadata": {
        "id": "VJ1NahoSYL2o"
      },
      "source": [
        "from kora.selenium import wd\n",
        "import pandas as pd\n",
        "import numpy as np\n",
        "from google.colab.data_table import DataTable\n",
        "from time import sleep\n",
        "import plotly.express as px"
      ],
      "execution_count": 3,
      "outputs": []
    },
    {
      "cell_type": "markdown",
      "metadata": {
        "id": "82OGpQVXZP1D"
      },
      "source": [
        "##Loading\n",
        "Baixar composição do Ibovespa"
      ]
    },
    {
      "cell_type": "code",
      "metadata": {
        "id": "Iwhj4j5eZPNq"
      },
      "source": [
        "tempo = 10\n",
        "url_base = 'https://sistemaswebb3-listados.b3.com.br/indexPage/day/IBOV?language=pt-br'\n",
        "wd.get(url_base)\n",
        "sleep(tempo)\n",
        "wd.find_element_by_id('segment').send_keys(\"Setor de Atuação\")\n",
        "sleep(tempo)\n",
        "wd.find_element_by_link_text('Download').click()\n",
        "sleep(tempo*3)\n",
        "arquivos = !ls -1t *.csv"
      ],
      "execution_count": 4,
      "outputs": []
    },
    {
      "cell_type": "code",
      "metadata": {
        "id": "PgjWmcZxjldj"
      },
      "source": [
        "ibov = pd.read_csv(arquivos[0],sep=';',encoding='ISO-8859-1',skipfooter=2,engine='python',thousands='.',decimal=',',header=1,index_col=False)"
      ],
      "execution_count": 11,
      "outputs": []
    },
    {
      "cell_type": "markdown",
      "metadata": {
        "id": "q6epBLmkg_gs"
      },
      "source": [
        "##Preparação dos Dados\n"
      ]
    },
    {
      "cell_type": "markdown",
      "metadata": {
        "id": "BDeDk49XSxeh"
      },
      "source": [
        "DataSet original"
      ]
    },
    {
      "cell_type": "code",
      "metadata": {
        "id": "ld0j07-0S2Np",
        "outputId": "984fd550-d4e2-4d10-b656-01b87ec825ef",
        "colab": {
          "base_uri": "https://localhost:8080/",
          "height": 206
        }
      },
      "source": [
        "ibov.head(5)"
      ],
      "execution_count": 12,
      "outputs": [
        {
          "output_type": "execute_result",
          "data": {
            "text/html": [
              "<div>\n",
              "<style scoped>\n",
              "    .dataframe tbody tr th:only-of-type {\n",
              "        vertical-align: middle;\n",
              "    }\n",
              "\n",
              "    .dataframe tbody tr th {\n",
              "        vertical-align: top;\n",
              "    }\n",
              "\n",
              "    .dataframe thead th {\n",
              "        text-align: right;\n",
              "    }\n",
              "</style>\n",
              "<table border=\"1\" class=\"dataframe\">\n",
              "  <thead>\n",
              "    <tr style=\"text-align: right;\">\n",
              "      <th></th>\n",
              "      <th>Setor</th>\n",
              "      <th>Código</th>\n",
              "      <th>Ação</th>\n",
              "      <th>Tipo</th>\n",
              "      <th>Qtde. Teórica</th>\n",
              "      <th>Part. (%)</th>\n",
              "      <th>Part. (%)Acum.</th>\n",
              "    </tr>\n",
              "  </thead>\n",
              "  <tbody>\n",
              "    <tr>\n",
              "      <th>0</th>\n",
              "      <td>Bens Indls / Máqs e Equips</td>\n",
              "      <td>WEGE3</td>\n",
              "      <td>WEG</td>\n",
              "      <td>ON      NM</td>\n",
              "      <td>1482296002</td>\n",
              "      <td>2.523</td>\n",
              "      <td>2.523</td>\n",
              "    </tr>\n",
              "    <tr>\n",
              "      <th>1</th>\n",
              "      <td>Bens Indls / Mat Transporte</td>\n",
              "      <td>EMBR3</td>\n",
              "      <td>EMBRAER</td>\n",
              "      <td>ON      NM</td>\n",
              "      <td>736143105</td>\n",
              "      <td>0.791</td>\n",
              "      <td>0.791</td>\n",
              "    </tr>\n",
              "    <tr>\n",
              "      <th>2</th>\n",
              "      <td>Bens Indls/Transporte</td>\n",
              "      <td>AZUL4</td>\n",
              "      <td>AZUL</td>\n",
              "      <td>PN      N2</td>\n",
              "      <td>327262616</td>\n",
              "      <td>0.575</td>\n",
              "      <td>2.615</td>\n",
              "    </tr>\n",
              "    <tr>\n",
              "      <th>3</th>\n",
              "      <td>Bens Indls/Transporte</td>\n",
              "      <td>CCRO3</td>\n",
              "      <td>CCR SA</td>\n",
              "      <td>ON      NM</td>\n",
              "      <td>1115693556</td>\n",
              "      <td>0.653</td>\n",
              "      <td>2.615</td>\n",
              "    </tr>\n",
              "    <tr>\n",
              "      <th>4</th>\n",
              "      <td>Bens Indls/Transporte</td>\n",
              "      <td>ECOR3</td>\n",
              "      <td>ECORODOVIAS</td>\n",
              "      <td>ON      NM</td>\n",
              "      <td>330237914</td>\n",
              "      <td>0.155</td>\n",
              "      <td>2.615</td>\n",
              "    </tr>\n",
              "  </tbody>\n",
              "</table>\n",
              "</div>"
            ],
            "text/plain": [
              "                         Setor Código  ... Part. (%) Part. (%)Acum.\n",
              "0   Bens Indls / Máqs e Equips  WEGE3  ...     2.523          2.523\n",
              "1  Bens Indls / Mat Transporte  EMBR3  ...     0.791          0.791\n",
              "2        Bens Indls/Transporte  AZUL4  ...     0.575          2.615\n",
              "3        Bens Indls/Transporte  CCRO3  ...     0.653          2.615\n",
              "4        Bens Indls/Transporte  ECOR3  ...     0.155          2.615\n",
              "\n",
              "[5 rows x 7 columns]"
            ]
          },
          "metadata": {},
          "execution_count": 12
        }
      ]
    },
    {
      "cell_type": "code",
      "metadata": {
        "id": "L5kjyORvTAhY",
        "outputId": "9f4c3959-a6bc-4812-97e1-1dc09e64c9f5",
        "colab": {
          "base_uri": "https://localhost:8080/"
        }
      },
      "source": [
        "ibov.info()"
      ],
      "execution_count": 14,
      "outputs": [
        {
          "output_type": "stream",
          "name": "stdout",
          "text": [
            "<class 'pandas.core.frame.DataFrame'>\n",
            "RangeIndex: 84 entries, 0 to 83\n",
            "Data columns (total 7 columns):\n",
            " #   Column          Non-Null Count  Dtype  \n",
            "---  ------          --------------  -----  \n",
            " 0   Setor           84 non-null     object \n",
            " 1   Código          84 non-null     object \n",
            " 2   Ação            84 non-null     object \n",
            " 3   Tipo            84 non-null     object \n",
            " 4   Qtde. Teórica   84 non-null     int64  \n",
            " 5   Part. (%)       84 non-null     float64\n",
            " 6   Part. (%)Acum.  84 non-null     float64\n",
            "dtypes: float64(2), int64(1), object(4)\n",
            "memory usage: 4.7+ KB\n"
          ]
        }
      ]
    },
    {
      "cell_type": "markdown",
      "metadata": {
        "id": "z0-dCcsZSv9G"
      },
      "source": [
        "Separar a informação de setor e subsetor"
      ]
    },
    {
      "cell_type": "code",
      "metadata": {
        "id": "Haq80qjsY25U"
      },
      "source": [
        "ibov['SubSetor'] = ibov['Setor'].apply(lambda s: s[s.rfind(\"/\")+1:].strip())\n",
        "ibov['Setor'] = ibov['Setor'].apply(lambda s: s[:s.rfind(\"/\")].strip())"
      ],
      "execution_count": 15,
      "outputs": []
    },
    {
      "cell_type": "markdown",
      "metadata": {
        "id": "T792IZW6hxXZ"
      },
      "source": [
        "Ajuste setores duplicados"
      ]
    },
    {
      "cell_type": "code",
      "metadata": {
        "id": "VbtOhY4yg-lw"
      },
      "source": [
        "ibov.loc[ibov.Setor == 'Cons N  Básico' ,  'Setor'] = 'Consumo Não-Cíclico'\n",
        "ibov.loc[ibov.Setor == 'Cons N Cíclico',  'Setor'] = 'Consumo Não-Cíclico'\n",
        "ibov.loc[ibov.Setor == 'Financ e Outros',  'Setor'] = 'Financeiro e Outros'\n"
      ],
      "execution_count": 16,
      "outputs": []
    },
    {
      "cell_type": "markdown",
      "metadata": {
        "id": "YCsGtAw3laDa"
      },
      "source": [
        "DataSet ajustado"
      ]
    },
    {
      "cell_type": "code",
      "metadata": {
        "id": "hcfus2Q9lhSB",
        "outputId": "e2043b82-437d-4140-abb0-716e399f11ef",
        "colab": {
          "base_uri": "https://localhost:8080/"
        }
      },
      "source": [
        "ibov.Setor.unique()"
      ],
      "execution_count": 19,
      "outputs": [
        {
          "output_type": "execute_result",
          "data": {
            "text/plain": [
              "array(['Bens Indls', 'Consumo Não-Cíclico', 'Consumo Cíclico', 'Diverso',\n",
              "       'Financeiro e Outros', 'Mats Básicos', 'Petróleo', 'Saúde',\n",
              "       'Tec.Informação', 'Telecomunicaçã', 'Utilidade Públ'], dtype=object)"
            ]
          },
          "metadata": {},
          "execution_count": 19
        }
      ]
    },
    {
      "cell_type": "markdown",
      "metadata": {
        "id": "N0VSXLDcliPc"
      },
      "source": [
        "Representação gráfica\n",
        "1. Gráfico de rosca"
      ]
    },
    {
      "cell_type": "code",
      "metadata": {
        "colab": {
          "base_uri": "https://localhost:8080/",
          "height": 917
        },
        "id": "xSpgUtkDjf4l",
        "outputId": "c07080a8-e4b4-4a3d-e1ea-40e033873f08"
      },
      "source": [
        "fig = px.sunburst(data_frame=ibov, path=['Setor','SubSetor','Código'], values='Part. (%)', height=900)\n",
        "fig.update_traces(textfont_color='white',\n",
        "                  textfont_size=14,\n",
        "                  hovertemplate='<b>%{label}:</b> %{value:.2f}%')\n",
        "fig.show()"
      ],
      "execution_count": 8,
      "outputs": [
        {
          "output_type": "display_data",
          "data": {
            "text/html": [
              "<html>\n",
              "<head><meta charset=\"utf-8\" /></head>\n",
              "<body>\n",
              "    <div>            <script src=\"https://cdnjs.cloudflare.com/ajax/libs/mathjax/2.7.5/MathJax.js?config=TeX-AMS-MML_SVG\"></script><script type=\"text/javascript\">if (window.MathJax) {MathJax.Hub.Config({SVG: {font: \"STIX-Web\"}});}</script>                <script type=\"text/javascript\">window.PlotlyConfig = {MathJaxConfig: 'local'};</script>\n",
              "        <script src=\"https://cdn.plot.ly/plotly-2.4.1.min.js\"></script>                <div id=\"3af7a624-3ce6-41b3-a620-4138f18ef82c\" class=\"plotly-graph-div\" style=\"height:900px; width:100%;\"></div>            <script type=\"text/javascript\">                                    window.PLOTLYENV=window.PLOTLYENV || {};                                    if (document.getElementById(\"3af7a624-3ce6-41b3-a620-4138f18ef82c\")) {                    Plotly.newPlot(                        \"3af7a624-3ce6-41b3-a620-4138f18ef82c\",                        [{\"branchvalues\":\"total\",\"domain\":{\"x\":[0.0,1.0],\"y\":[0.0,1.0]},\"hovertemplate\":\"<b>%{label}:</b> %{value:.2f}%\",\"ids\":[\"Consumo N\\u00e3o-C\\u00edclico/Bebidas/ABEV3\",\"Consumo C\\u00edclico/Com\\u00e9rcio/AMER3\",\"Consumo N\\u00e3o-C\\u00edclico/Com\\u00e9rcio Distr./ASAI3\",\"Bens Indls/Transporte/AZUL4\",\"Financeiro e Outros/Servi\\u00e7os Financeiros Diversos/B3SA3\",\"Financeiro e Outros/Interms Financs/BBAS3\",\"Financeiro e Outros/Interms Financs/BBDC3\",\"Financeiro e Outros/Interms Financs/BBDC4\",\"Financeiro e Outros/Previd  Seguros/BBSE3\",\"Consumo N\\u00e3o-C\\u00edclico/Alimentos Processados/BEEF3\",\"Financeiro e Outros/Interms Financs/BIDI11\",\"Financeiro e Outros/Interms Financs/BPAC11\",\"Mats B\\u00e1sicos/Minera\\u00e7\\u00e3o/BRAP4\",\"Petr\\u00f3leo/G\\u00e1s e Biocombust\\u00edveis/BRDT3\",\"Consumo N\\u00e3o-C\\u00edclico/Alimentos Processados/BRFS3\",\"Mats B\\u00e1sicos/Qu\\u00edmicos/BRKM5\",\"Financeiro e Outros/Explor Im\\u00f3veis/BRML3\",\"Bens Indls/Transporte/CCRO3\",\"Financeiro e Outros/Servi\\u00e7os Financeiros Diversos/CIEL3\",\"Utilidade P\\u00fabl/Energ El\\u00e9trica/CMIG4\",\"Diverso/Diversos/COGN3\",\"Utilidade P\\u00fabl/Energ El\\u00e9trica/CPFE3\",\"Utilidade P\\u00fabl/Energ El\\u00e9trica/CPLE6\",\"Consumo N\\u00e3o-C\\u00edclico/Com\\u00e9rcio Distr./CRFB3\",\"Petr\\u00f3leo/G\\u00e1s e Biocombust\\u00edveis/CSAN3\",\"Mats B\\u00e1sicos/Sid Metalurgia/CSNA3\",\"Consumo C\\u00edclico/Viagens e Lazer/CVCB3\",\"Consumo C\\u00edclico/Constr Civil/CYRE3\",\"Bens Indls/Transporte/ECOR3\",\"Utilidade P\\u00fabl/Energ El\\u00e9trica/EGIE3\",\"Utilidade P\\u00fabl/Energ El\\u00e9trica/ELET3\",\"Utilidade P\\u00fabl/Energ El\\u00e9trica/ELET6\",\"Bens Indls/Mat Transporte/EMBR3\",\"Utilidade P\\u00fabl/Energ El\\u00e9trica/ENBR3\",\"Utilidade P\\u00fabl/Energ El\\u00e9trica/ENEV3\",\"Utilidade P\\u00fabl/Energ El\\u00e9trica/ENGI11\",\"Utilidade P\\u00fabl/Energ El\\u00e9trica/EQTL3\",\"Consumo C\\u00edclico/Constr Civil/EZTC3\",\"Sa\\u00fade/SM Hosp An.Diag/FLRY3\",\"Mats B\\u00e1sicos/Sid Metalurgia/GGBR4\",\"Sa\\u00fade/SM Hosp An.Diag/GNDI3\",\"Mats B\\u00e1sicos/Sid Metalurgia/GOAU4\",\"Bens Indls/Transporte/GOLL4\",\"Sa\\u00fade/SM Hosp An.Diag/HAPV3\",\"Consumo C\\u00edclico/Tecid Vest Cal\\u00e7/HGTX3\",\"Sa\\u00fade/Com\\u00e9rcio Distr./HYPE3\",\"Financeiro e Outros/Explor Im\\u00f3veis/IGTA3\",\"Financeiro e Outros/Previd  Seguros/IRBR3\",\"Financeiro e Outros/Interms Financs/ITSA4\",\"Financeiro e Outros/Interms Financs/ITUB4\",\"Consumo N\\u00e3o-C\\u00edclico/Alimentos Processados/JBSS3\",\"Consumo C\\u00edclico/Constr Civil/JHSF3\",\"Mats B\\u00e1sicos/Madeira e Papel/KLBN11\",\"Consumo C\\u00edclico/Com\\u00e9rcio/LAME4\",\"Diverso/Diversos/LCAM3\",\"Consumo C\\u00edclico/Com\\u00e9rcio/LREN3\",\"Tec.Informa\\u00e7\\u00e3o/Programas Servs/LWSA3\",\"Consumo C\\u00edclico/Com\\u00e9rcio/MGLU3\",\"Consumo N\\u00e3o-C\\u00edclico/Alimentos Processados/MRFG3\",\"Consumo C\\u00edclico/Constr Civil/MRVE3\",\"Financeiro e Outros/Explor Im\\u00f3veis/MULT3\",\"Consumo N\\u00e3o-C\\u00edclico/Pr Pessoal Limp/NTCO3\",\"Consumo N\\u00e3o-C\\u00edclico/Com\\u00e9rcio Distr./PCAR3\",\"Petr\\u00f3leo/G\\u00e1s e Biocombust\\u00edveis/PETR3\",\"Petr\\u00f3leo/G\\u00e1s e Biocombust\\u00edveis/PETR4\",\"Petr\\u00f3leo/G\\u00e1s e Biocombust\\u00edveis/PRIO3\",\"Sa\\u00fade/SM Hosp An.Diag/QUAL3\",\"Sa\\u00fade/Com\\u00e9rcio Distr./RADL3\",\"Bens Indls/Transporte/RAIL3\",\"Diverso/Diversos/RENT3\",\"Financeiro e Outros/Interms Financs/SANB11\",\"Utilidade P\\u00fabl/\\u00c1gua Saneamento/SBSP3\",\"Financeiro e Outros/Previd  Seguros/SULA11\",\"Mats B\\u00e1sicos/Madeira e Papel/SUZB3\",\"Utilidade P\\u00fabl/Energ El\\u00e9trica/TAEE11\",\"Telecomunica\\u00e7\\u00e3/Telecomunica\\u00e7\\u00e3o/TIMS3\",\"Tec.Informa\\u00e7\\u00e3o/Programas Servs/TOTS3\",\"Petr\\u00f3leo/G\\u00e1s e Biocombust\\u00edveis/UGPA3\",\"Mats B\\u00e1sicos/Sid Metalurgia/USIM5\",\"Mats B\\u00e1sicos/Minera\\u00e7\\u00e3o/VALE3\",\"Consumo C\\u00edclico/Com\\u00e9rcio/VIIA3\",\"Telecomunica\\u00e7\\u00e3/Telecomunica\\u00e7\\u00e3o/VIVT3\",\"Bens Indls/M\\u00e1qs e Equips/WEGE3\",\"Diverso/Diversos/YDUQ3\",\"Consumo N\\u00e3o-C\\u00edclico/Alimentos Processados\",\"Consumo N\\u00e3o-C\\u00edclico/Bebidas\",\"Consumo C\\u00edclico/Com\\u00e9rcio\",\"Consumo N\\u00e3o-C\\u00edclico/Com\\u00e9rcio Distr.\",\"Sa\\u00fade/Com\\u00e9rcio Distr.\",\"Consumo C\\u00edclico/Constr Civil\",\"Diverso/Diversos\",\"Utilidade P\\u00fabl/Energ El\\u00e9trica\",\"Financeiro e Outros/Explor Im\\u00f3veis\",\"Petr\\u00f3leo/G\\u00e1s e Biocombust\\u00edveis\",\"Financeiro e Outros/Interms Financs\",\"Mats B\\u00e1sicos/Madeira e Papel\",\"Bens Indls/Mat Transporte\",\"Mats B\\u00e1sicos/Minera\\u00e7\\u00e3o\",\"Bens Indls/M\\u00e1qs e Equips\",\"Consumo N\\u00e3o-C\\u00edclico/Pr Pessoal Limp\",\"Financeiro e Outros/Previd  Seguros\",\"Tec.Informa\\u00e7\\u00e3o/Programas Servs\",\"Mats B\\u00e1sicos/Qu\\u00edmicos\",\"Sa\\u00fade/SM Hosp An.Diag\",\"Financeiro e Outros/Servi\\u00e7os Financeiros Diversos\",\"Mats B\\u00e1sicos/Sid Metalurgia\",\"Consumo C\\u00edclico/Tecid Vest Cal\\u00e7\",\"Telecomunica\\u00e7\\u00e3/Telecomunica\\u00e7\\u00e3o\",\"Bens Indls/Transporte\",\"Consumo C\\u00edclico/Viagens e Lazer\",\"Utilidade P\\u00fabl/\\u00c1gua Saneamento\",\"Bens Indls\",\"Consumo C\\u00edclico\",\"Consumo N\\u00e3o-C\\u00edclico\",\"Diverso\",\"Financeiro e Outros\",\"Mats B\\u00e1sicos\",\"Petr\\u00f3leo\",\"Sa\\u00fade\",\"Tec.Informa\\u00e7\\u00e3o\",\"Telecomunica\\u00e7\\u00e3\",\"Utilidade P\\u00fabl\"],\"labels\":[\"ABEV3\",\"AMER3\",\"ASAI3\",\"AZUL4\",\"B3SA3\",\"BBAS3\",\"BBDC3\",\"BBDC4\",\"BBSE3\",\"BEEF3\",\"BIDI11\",\"BPAC11\",\"BRAP4\",\"BRDT3\",\"BRFS3\",\"BRKM5\",\"BRML3\",\"CCRO3\",\"CIEL3\",\"CMIG4\",\"COGN3\",\"CPFE3\",\"CPLE6\",\"CRFB3\",\"CSAN3\",\"CSNA3\",\"CVCB3\",\"CYRE3\",\"ECOR3\",\"EGIE3\",\"ELET3\",\"ELET6\",\"EMBR3\",\"ENBR3\",\"ENEV3\",\"ENGI11\",\"EQTL3\",\"EZTC3\",\"FLRY3\",\"GGBR4\",\"GNDI3\",\"GOAU4\",\"GOLL4\",\"HAPV3\",\"HGTX3\",\"HYPE3\",\"IGTA3\",\"IRBR3\",\"ITSA4\",\"ITUB4\",\"JBSS3\",\"JHSF3\",\"KLBN11\",\"LAME4\",\"LCAM3\",\"LREN3\",\"LWSA3\",\"MGLU3\",\"MRFG3\",\"MRVE3\",\"MULT3\",\"NTCO3\",\"PCAR3\",\"PETR3\",\"PETR4\",\"PRIO3\",\"QUAL3\",\"RADL3\",\"RAIL3\",\"RENT3\",\"SANB11\",\"SBSP3\",\"SULA11\",\"SUZB3\",\"TAEE11\",\"TIMS3\",\"TOTS3\",\"UGPA3\",\"USIM5\",\"VALE3\",\"VIIA3\",\"VIVT3\",\"WEGE3\",\"YDUQ3\",\"Alimentos Processados\",\"Bebidas\",\"Com\\u00e9rcio\",\"Com\\u00e9rcio Distr.\",\"Com\\u00e9rcio Distr.\",\"Constr Civil\",\"Diversos\",\"Energ El\\u00e9trica\",\"Explor Im\\u00f3veis\",\"G\\u00e1s e Biocombust\\u00edveis\",\"Interms Financs\",\"Madeira e Papel\",\"Mat Transporte\",\"Minera\\u00e7\\u00e3o\",\"M\\u00e1qs e Equips\",\"Pr Pessoal Limp\",\"Previd  Seguros\",\"Programas Servs\",\"Qu\\u00edmicos\",\"SM Hosp An.Diag\",\"Servi\\u00e7os Financeiros Diversos\",\"Sid Metalurgia\",\"Tecid Vest Cal\\u00e7\",\"Telecomunica\\u00e7\\u00e3o\",\"Transporte\",\"Viagens e Lazer\",\"\\u00c1gua Saneamento\",\"Bens Indls\",\"Consumo C\\u00edclico\",\"Consumo N\\u00e3o-C\\u00edclico\",\"Diverso\",\"Financeiro e Outros\",\"Mats B\\u00e1sicos\",\"Petr\\u00f3leo\",\"Sa\\u00fade\",\"Tec.Informa\\u00e7\\u00e3o\",\"Telecomunica\\u00e7\\u00e3\",\"Utilidade P\\u00fabl\"],\"name\":\"\",\"parents\":[\"Consumo N\\u00e3o-C\\u00edclico/Bebidas\",\"Consumo C\\u00edclico/Com\\u00e9rcio\",\"Consumo N\\u00e3o-C\\u00edclico/Com\\u00e9rcio Distr.\",\"Bens Indls/Transporte\",\"Financeiro e Outros/Servi\\u00e7os Financeiros Diversos\",\"Financeiro e Outros/Interms Financs\",\"Financeiro e Outros/Interms Financs\",\"Financeiro e Outros/Interms Financs\",\"Financeiro e Outros/Previd  Seguros\",\"Consumo N\\u00e3o-C\\u00edclico/Alimentos Processados\",\"Financeiro e Outros/Interms Financs\",\"Financeiro e Outros/Interms Financs\",\"Mats B\\u00e1sicos/Minera\\u00e7\\u00e3o\",\"Petr\\u00f3leo/G\\u00e1s e Biocombust\\u00edveis\",\"Consumo N\\u00e3o-C\\u00edclico/Alimentos Processados\",\"Mats B\\u00e1sicos/Qu\\u00edmicos\",\"Financeiro e Outros/Explor Im\\u00f3veis\",\"Bens Indls/Transporte\",\"Financeiro e Outros/Servi\\u00e7os Financeiros Diversos\",\"Utilidade P\\u00fabl/Energ El\\u00e9trica\",\"Diverso/Diversos\",\"Utilidade P\\u00fabl/Energ El\\u00e9trica\",\"Utilidade P\\u00fabl/Energ El\\u00e9trica\",\"Consumo N\\u00e3o-C\\u00edclico/Com\\u00e9rcio Distr.\",\"Petr\\u00f3leo/G\\u00e1s e Biocombust\\u00edveis\",\"Mats B\\u00e1sicos/Sid Metalurgia\",\"Consumo C\\u00edclico/Viagens e Lazer\",\"Consumo C\\u00edclico/Constr Civil\",\"Bens Indls/Transporte\",\"Utilidade P\\u00fabl/Energ El\\u00e9trica\",\"Utilidade P\\u00fabl/Energ El\\u00e9trica\",\"Utilidade P\\u00fabl/Energ El\\u00e9trica\",\"Bens Indls/Mat Transporte\",\"Utilidade P\\u00fabl/Energ El\\u00e9trica\",\"Utilidade P\\u00fabl/Energ El\\u00e9trica\",\"Utilidade P\\u00fabl/Energ El\\u00e9trica\",\"Utilidade P\\u00fabl/Energ El\\u00e9trica\",\"Consumo C\\u00edclico/Constr Civil\",\"Sa\\u00fade/SM Hosp An.Diag\",\"Mats B\\u00e1sicos/Sid Metalurgia\",\"Sa\\u00fade/SM Hosp An.Diag\",\"Mats B\\u00e1sicos/Sid Metalurgia\",\"Bens Indls/Transporte\",\"Sa\\u00fade/SM Hosp An.Diag\",\"Consumo C\\u00edclico/Tecid Vest Cal\\u00e7\",\"Sa\\u00fade/Com\\u00e9rcio Distr.\",\"Financeiro e Outros/Explor Im\\u00f3veis\",\"Financeiro e Outros/Previd  Seguros\",\"Financeiro e Outros/Interms Financs\",\"Financeiro e Outros/Interms Financs\",\"Consumo N\\u00e3o-C\\u00edclico/Alimentos Processados\",\"Consumo C\\u00edclico/Constr Civil\",\"Mats B\\u00e1sicos/Madeira e Papel\",\"Consumo C\\u00edclico/Com\\u00e9rcio\",\"Diverso/Diversos\",\"Consumo C\\u00edclico/Com\\u00e9rcio\",\"Tec.Informa\\u00e7\\u00e3o/Programas Servs\",\"Consumo C\\u00edclico/Com\\u00e9rcio\",\"Consumo N\\u00e3o-C\\u00edclico/Alimentos Processados\",\"Consumo C\\u00edclico/Constr Civil\",\"Financeiro e Outros/Explor Im\\u00f3veis\",\"Consumo N\\u00e3o-C\\u00edclico/Pr Pessoal Limp\",\"Consumo N\\u00e3o-C\\u00edclico/Com\\u00e9rcio Distr.\",\"Petr\\u00f3leo/G\\u00e1s e Biocombust\\u00edveis\",\"Petr\\u00f3leo/G\\u00e1s e Biocombust\\u00edveis\",\"Petr\\u00f3leo/G\\u00e1s e Biocombust\\u00edveis\",\"Sa\\u00fade/SM Hosp An.Diag\",\"Sa\\u00fade/Com\\u00e9rcio Distr.\",\"Bens Indls/Transporte\",\"Diverso/Diversos\",\"Financeiro e Outros/Interms Financs\",\"Utilidade P\\u00fabl/\\u00c1gua Saneamento\",\"Financeiro e Outros/Previd  Seguros\",\"Mats B\\u00e1sicos/Madeira e Papel\",\"Utilidade P\\u00fabl/Energ El\\u00e9trica\",\"Telecomunica\\u00e7\\u00e3/Telecomunica\\u00e7\\u00e3o\",\"Tec.Informa\\u00e7\\u00e3o/Programas Servs\",\"Petr\\u00f3leo/G\\u00e1s e Biocombust\\u00edveis\",\"Mats B\\u00e1sicos/Sid Metalurgia\",\"Mats B\\u00e1sicos/Minera\\u00e7\\u00e3o\",\"Consumo C\\u00edclico/Com\\u00e9rcio\",\"Telecomunica\\u00e7\\u00e3/Telecomunica\\u00e7\\u00e3o\",\"Bens Indls/M\\u00e1qs e Equips\",\"Diverso/Diversos\",\"Consumo N\\u00e3o-C\\u00edclico\",\"Consumo N\\u00e3o-C\\u00edclico\",\"Consumo C\\u00edclico\",\"Consumo N\\u00e3o-C\\u00edclico\",\"Sa\\u00fade\",\"Consumo C\\u00edclico\",\"Diverso\",\"Utilidade P\\u00fabl\",\"Financeiro e Outros\",\"Petr\\u00f3leo\",\"Financeiro e Outros\",\"Mats B\\u00e1sicos\",\"Bens Indls\",\"Mats B\\u00e1sicos\",\"Bens Indls\",\"Consumo N\\u00e3o-C\\u00edclico\",\"Financeiro e Outros\",\"Tec.Informa\\u00e7\\u00e3o\",\"Mats B\\u00e1sicos\",\"Sa\\u00fade\",\"Financeiro e Outros\",\"Mats B\\u00e1sicos\",\"Consumo C\\u00edclico\",\"Telecomunica\\u00e7\\u00e3\",\"Bens Indls\",\"Consumo C\\u00edclico\",\"Utilidade P\\u00fabl\",\"\",\"\",\"\",\"\",\"\",\"\",\"\",\"\",\"\",\"\",\"\"],\"textfont\":{\"color\":\"white\",\"size\":14},\"type\":\"sunburst\",\"values\":[3.475,0.8,0.35100000000000003,0.575,3.89,1.801,1.15,4.552,0.601,0.094,0.888,1.39,0.662,1.46,0.888,0.767,0.35700000000000004,0.653,0.14800000000000002,0.6609999999999999,0.27899999999999997,0.253,0.174,0.34,1.205,1.094,0.231,0.267,0.155,0.449,0.63,0.43200000000000005,0.7909999999999999,0.198,0.915,0.518,1.187,0.121,0.335,1.3259999999999998,2.21,0.419,0.16699999999999998,0.87,0.22399999999999998,0.654,0.139,0.304,2.372,6.76,2.008,0.09,1.135,0.24100000000000002,0.38299999999999995,1.564,0.491,2.492,0.359,0.183,0.242,2.048,0.214,4.825,5.997000000000001,0.722,0.28300000000000003,1.288,1.065,1.564,0.682,0.578,0.391,2.069,0.387,0.45899999999999996,0.889,0.736,0.444,11.407,0.797,0.894,2.523,0.368,3.3489999999999998,3.475,5.894,0.905,1.9420000000000002,0.661,2.594,5.804,0.738,14.945000000000002,19.595,3.2039999999999997,0.7909999999999999,12.069,2.523,2.048,1.296,1.38,0.767,3.698,4.038,3.283,0.22399999999999998,1.353,2.615,0.231,0.578,5.929,7.01,9.777000000000001,2.594,25.666999999999998,19.323,14.945000000000002,5.640000000000001,1.38,1.353,6.382]}],                        {\"height\":900,\"legend\":{\"tracegroupgap\":0},\"margin\":{\"t\":60},\"template\":{\"data\":{\"bar\":[{\"error_x\":{\"color\":\"#2a3f5f\"},\"error_y\":{\"color\":\"#2a3f5f\"},\"marker\":{\"line\":{\"color\":\"#E5ECF6\",\"width\":0.5},\"pattern\":{\"fillmode\":\"overlay\",\"size\":10,\"solidity\":0.2}},\"type\":\"bar\"}],\"barpolar\":[{\"marker\":{\"line\":{\"color\":\"#E5ECF6\",\"width\":0.5},\"pattern\":{\"fillmode\":\"overlay\",\"size\":10,\"solidity\":0.2}},\"type\":\"barpolar\"}],\"carpet\":[{\"aaxis\":{\"endlinecolor\":\"#2a3f5f\",\"gridcolor\":\"white\",\"linecolor\":\"white\",\"minorgridcolor\":\"white\",\"startlinecolor\":\"#2a3f5f\"},\"baxis\":{\"endlinecolor\":\"#2a3f5f\",\"gridcolor\":\"white\",\"linecolor\":\"white\",\"minorgridcolor\":\"white\",\"startlinecolor\":\"#2a3f5f\"},\"type\":\"carpet\"}],\"choropleth\":[{\"colorbar\":{\"outlinewidth\":0,\"ticks\":\"\"},\"type\":\"choropleth\"}],\"contour\":[{\"colorbar\":{\"outlinewidth\":0,\"ticks\":\"\"},\"colorscale\":[[0.0,\"#0d0887\"],[0.1111111111111111,\"#46039f\"],[0.2222222222222222,\"#7201a8\"],[0.3333333333333333,\"#9c179e\"],[0.4444444444444444,\"#bd3786\"],[0.5555555555555556,\"#d8576b\"],[0.6666666666666666,\"#ed7953\"],[0.7777777777777778,\"#fb9f3a\"],[0.8888888888888888,\"#fdca26\"],[1.0,\"#f0f921\"]],\"type\":\"contour\"}],\"contourcarpet\":[{\"colorbar\":{\"outlinewidth\":0,\"ticks\":\"\"},\"type\":\"contourcarpet\"}],\"heatmap\":[{\"colorbar\":{\"outlinewidth\":0,\"ticks\":\"\"},\"colorscale\":[[0.0,\"#0d0887\"],[0.1111111111111111,\"#46039f\"],[0.2222222222222222,\"#7201a8\"],[0.3333333333333333,\"#9c179e\"],[0.4444444444444444,\"#bd3786\"],[0.5555555555555556,\"#d8576b\"],[0.6666666666666666,\"#ed7953\"],[0.7777777777777778,\"#fb9f3a\"],[0.8888888888888888,\"#fdca26\"],[1.0,\"#f0f921\"]],\"type\":\"heatmap\"}],\"heatmapgl\":[{\"colorbar\":{\"outlinewidth\":0,\"ticks\":\"\"},\"colorscale\":[[0.0,\"#0d0887\"],[0.1111111111111111,\"#46039f\"],[0.2222222222222222,\"#7201a8\"],[0.3333333333333333,\"#9c179e\"],[0.4444444444444444,\"#bd3786\"],[0.5555555555555556,\"#d8576b\"],[0.6666666666666666,\"#ed7953\"],[0.7777777777777778,\"#fb9f3a\"],[0.8888888888888888,\"#fdca26\"],[1.0,\"#f0f921\"]],\"type\":\"heatmapgl\"}],\"histogram\":[{\"marker\":{\"pattern\":{\"fillmode\":\"overlay\",\"size\":10,\"solidity\":0.2}},\"type\":\"histogram\"}],\"histogram2d\":[{\"colorbar\":{\"outlinewidth\":0,\"ticks\":\"\"},\"colorscale\":[[0.0,\"#0d0887\"],[0.1111111111111111,\"#46039f\"],[0.2222222222222222,\"#7201a8\"],[0.3333333333333333,\"#9c179e\"],[0.4444444444444444,\"#bd3786\"],[0.5555555555555556,\"#d8576b\"],[0.6666666666666666,\"#ed7953\"],[0.7777777777777778,\"#fb9f3a\"],[0.8888888888888888,\"#fdca26\"],[1.0,\"#f0f921\"]],\"type\":\"histogram2d\"}],\"histogram2dcontour\":[{\"colorbar\":{\"outlinewidth\":0,\"ticks\":\"\"},\"colorscale\":[[0.0,\"#0d0887\"],[0.1111111111111111,\"#46039f\"],[0.2222222222222222,\"#7201a8\"],[0.3333333333333333,\"#9c179e\"],[0.4444444444444444,\"#bd3786\"],[0.5555555555555556,\"#d8576b\"],[0.6666666666666666,\"#ed7953\"],[0.7777777777777778,\"#fb9f3a\"],[0.8888888888888888,\"#fdca26\"],[1.0,\"#f0f921\"]],\"type\":\"histogram2dcontour\"}],\"mesh3d\":[{\"colorbar\":{\"outlinewidth\":0,\"ticks\":\"\"},\"type\":\"mesh3d\"}],\"parcoords\":[{\"line\":{\"colorbar\":{\"outlinewidth\":0,\"ticks\":\"\"}},\"type\":\"parcoords\"}],\"pie\":[{\"automargin\":true,\"type\":\"pie\"}],\"scatter\":[{\"marker\":{\"colorbar\":{\"outlinewidth\":0,\"ticks\":\"\"}},\"type\":\"scatter\"}],\"scatter3d\":[{\"line\":{\"colorbar\":{\"outlinewidth\":0,\"ticks\":\"\"}},\"marker\":{\"colorbar\":{\"outlinewidth\":0,\"ticks\":\"\"}},\"type\":\"scatter3d\"}],\"scattercarpet\":[{\"marker\":{\"colorbar\":{\"outlinewidth\":0,\"ticks\":\"\"}},\"type\":\"scattercarpet\"}],\"scattergeo\":[{\"marker\":{\"colorbar\":{\"outlinewidth\":0,\"ticks\":\"\"}},\"type\":\"scattergeo\"}],\"scattergl\":[{\"marker\":{\"colorbar\":{\"outlinewidth\":0,\"ticks\":\"\"}},\"type\":\"scattergl\"}],\"scattermapbox\":[{\"marker\":{\"colorbar\":{\"outlinewidth\":0,\"ticks\":\"\"}},\"type\":\"scattermapbox\"}],\"scatterpolar\":[{\"marker\":{\"colorbar\":{\"outlinewidth\":0,\"ticks\":\"\"}},\"type\":\"scatterpolar\"}],\"scatterpolargl\":[{\"marker\":{\"colorbar\":{\"outlinewidth\":0,\"ticks\":\"\"}},\"type\":\"scatterpolargl\"}],\"scatterternary\":[{\"marker\":{\"colorbar\":{\"outlinewidth\":0,\"ticks\":\"\"}},\"type\":\"scatterternary\"}],\"surface\":[{\"colorbar\":{\"outlinewidth\":0,\"ticks\":\"\"},\"colorscale\":[[0.0,\"#0d0887\"],[0.1111111111111111,\"#46039f\"],[0.2222222222222222,\"#7201a8\"],[0.3333333333333333,\"#9c179e\"],[0.4444444444444444,\"#bd3786\"],[0.5555555555555556,\"#d8576b\"],[0.6666666666666666,\"#ed7953\"],[0.7777777777777778,\"#fb9f3a\"],[0.8888888888888888,\"#fdca26\"],[1.0,\"#f0f921\"]],\"type\":\"surface\"}],\"table\":[{\"cells\":{\"fill\":{\"color\":\"#EBF0F8\"},\"line\":{\"color\":\"white\"}},\"header\":{\"fill\":{\"color\":\"#C8D4E3\"},\"line\":{\"color\":\"white\"}},\"type\":\"table\"}]},\"layout\":{\"annotationdefaults\":{\"arrowcolor\":\"#2a3f5f\",\"arrowhead\":0,\"arrowwidth\":1},\"autotypenumbers\":\"strict\",\"coloraxis\":{\"colorbar\":{\"outlinewidth\":0,\"ticks\":\"\"}},\"colorscale\":{\"diverging\":[[0,\"#8e0152\"],[0.1,\"#c51b7d\"],[0.2,\"#de77ae\"],[0.3,\"#f1b6da\"],[0.4,\"#fde0ef\"],[0.5,\"#f7f7f7\"],[0.6,\"#e6f5d0\"],[0.7,\"#b8e186\"],[0.8,\"#7fbc41\"],[0.9,\"#4d9221\"],[1,\"#276419\"]],\"sequential\":[[0.0,\"#0d0887\"],[0.1111111111111111,\"#46039f\"],[0.2222222222222222,\"#7201a8\"],[0.3333333333333333,\"#9c179e\"],[0.4444444444444444,\"#bd3786\"],[0.5555555555555556,\"#d8576b\"],[0.6666666666666666,\"#ed7953\"],[0.7777777777777778,\"#fb9f3a\"],[0.8888888888888888,\"#fdca26\"],[1.0,\"#f0f921\"]],\"sequentialminus\":[[0.0,\"#0d0887\"],[0.1111111111111111,\"#46039f\"],[0.2222222222222222,\"#7201a8\"],[0.3333333333333333,\"#9c179e\"],[0.4444444444444444,\"#bd3786\"],[0.5555555555555556,\"#d8576b\"],[0.6666666666666666,\"#ed7953\"],[0.7777777777777778,\"#fb9f3a\"],[0.8888888888888888,\"#fdca26\"],[1.0,\"#f0f921\"]]},\"colorway\":[\"#636efa\",\"#EF553B\",\"#00cc96\",\"#ab63fa\",\"#FFA15A\",\"#19d3f3\",\"#FF6692\",\"#B6E880\",\"#FF97FF\",\"#FECB52\"],\"font\":{\"color\":\"#2a3f5f\"},\"geo\":{\"bgcolor\":\"white\",\"lakecolor\":\"white\",\"landcolor\":\"#E5ECF6\",\"showlakes\":true,\"showland\":true,\"subunitcolor\":\"white\"},\"hoverlabel\":{\"align\":\"left\"},\"hovermode\":\"closest\",\"mapbox\":{\"style\":\"light\"},\"paper_bgcolor\":\"white\",\"plot_bgcolor\":\"#E5ECF6\",\"polar\":{\"angularaxis\":{\"gridcolor\":\"white\",\"linecolor\":\"white\",\"ticks\":\"\"},\"bgcolor\":\"#E5ECF6\",\"radialaxis\":{\"gridcolor\":\"white\",\"linecolor\":\"white\",\"ticks\":\"\"}},\"scene\":{\"xaxis\":{\"backgroundcolor\":\"#E5ECF6\",\"gridcolor\":\"white\",\"gridwidth\":2,\"linecolor\":\"white\",\"showbackground\":true,\"ticks\":\"\",\"zerolinecolor\":\"white\"},\"yaxis\":{\"backgroundcolor\":\"#E5ECF6\",\"gridcolor\":\"white\",\"gridwidth\":2,\"linecolor\":\"white\",\"showbackground\":true,\"ticks\":\"\",\"zerolinecolor\":\"white\"},\"zaxis\":{\"backgroundcolor\":\"#E5ECF6\",\"gridcolor\":\"white\",\"gridwidth\":2,\"linecolor\":\"white\",\"showbackground\":true,\"ticks\":\"\",\"zerolinecolor\":\"white\"}},\"shapedefaults\":{\"line\":{\"color\":\"#2a3f5f\"}},\"ternary\":{\"aaxis\":{\"gridcolor\":\"white\",\"linecolor\":\"white\",\"ticks\":\"\"},\"baxis\":{\"gridcolor\":\"white\",\"linecolor\":\"white\",\"ticks\":\"\"},\"bgcolor\":\"#E5ECF6\",\"caxis\":{\"gridcolor\":\"white\",\"linecolor\":\"white\",\"ticks\":\"\"}},\"title\":{\"x\":0.05},\"xaxis\":{\"automargin\":true,\"gridcolor\":\"white\",\"linecolor\":\"white\",\"ticks\":\"\",\"title\":{\"standoff\":15},\"zerolinecolor\":\"white\",\"zerolinewidth\":2},\"yaxis\":{\"automargin\":true,\"gridcolor\":\"white\",\"linecolor\":\"white\",\"ticks\":\"\",\"title\":{\"standoff\":15},\"zerolinecolor\":\"white\",\"zerolinewidth\":2}}}},                        {\"responsive\": true}                    ).then(function(){\n",
              "                            \n",
              "var gd = document.getElementById('3af7a624-3ce6-41b3-a620-4138f18ef82c');\n",
              "var x = new MutationObserver(function (mutations, observer) {{\n",
              "        var display = window.getComputedStyle(gd).display;\n",
              "        if (!display || display === 'none') {{\n",
              "            console.log([gd, 'removed!']);\n",
              "            Plotly.purge(gd);\n",
              "            observer.disconnect();\n",
              "        }}\n",
              "}});\n",
              "\n",
              "// Listen for the removal of the full notebook cells\n",
              "var notebookContainer = gd.closest('#notebook-container');\n",
              "if (notebookContainer) {{\n",
              "    x.observe(notebookContainer, {childList: true});\n",
              "}}\n",
              "\n",
              "// Listen for the clearing of the current output cell\n",
              "var outputEl = gd.closest('.output');\n",
              "if (outputEl) {{\n",
              "    x.observe(outputEl, {childList: true});\n",
              "}}\n",
              "\n",
              "                        })                };                            </script>        </div>\n",
              "</body>\n",
              "</html>"
            ]
          },
          "metadata": {}
        }
      ]
    },
    {
      "cell_type": "markdown",
      "metadata": {
        "id": "kM6cvHHRlqa-"
      },
      "source": [
        "2. Gráfico de árvore"
      ]
    },
    {
      "cell_type": "code",
      "metadata": {
        "colab": {
          "base_uri": "https://localhost:8080/",
          "height": 917
        },
        "id": "79q4dUc0mwBR",
        "outputId": "bb91c8cc-102d-41e7-b795-3f1e72ef90dd"
      },
      "source": [
        "fig = px.treemap(data_frame=ibov, path=['Setor','SubSetor','Código'], values='Part. (%)', height=900)\n",
        "fig.update_traces(textfont_color='white',\n",
        "                  textfont_size=14,\n",
        "                  hovertemplate='<b>%{label}:</b> %{value:.2f}%')\n",
        "fig.show()"
      ],
      "execution_count": 9,
      "outputs": [
        {
          "output_type": "display_data",
          "data": {
            "text/html": [
              "<html>\n",
              "<head><meta charset=\"utf-8\" /></head>\n",
              "<body>\n",
              "    <div>            <script src=\"https://cdnjs.cloudflare.com/ajax/libs/mathjax/2.7.5/MathJax.js?config=TeX-AMS-MML_SVG\"></script><script type=\"text/javascript\">if (window.MathJax) {MathJax.Hub.Config({SVG: {font: \"STIX-Web\"}});}</script>                <script type=\"text/javascript\">window.PlotlyConfig = {MathJaxConfig: 'local'};</script>\n",
              "        <script src=\"https://cdn.plot.ly/plotly-2.4.1.min.js\"></script>                <div id=\"b104b162-d8ae-40fa-a4f4-b6b129c0ddf5\" class=\"plotly-graph-div\" style=\"height:900px; width:100%;\"></div>            <script type=\"text/javascript\">                                    window.PLOTLYENV=window.PLOTLYENV || {};                                    if (document.getElementById(\"b104b162-d8ae-40fa-a4f4-b6b129c0ddf5\")) {                    Plotly.newPlot(                        \"b104b162-d8ae-40fa-a4f4-b6b129c0ddf5\",                        [{\"branchvalues\":\"total\",\"domain\":{\"x\":[0.0,1.0],\"y\":[0.0,1.0]},\"hovertemplate\":\"<b>%{label}:</b> %{value:.2f}%\",\"ids\":[\"Consumo N\\u00e3o-C\\u00edclico/Bebidas/ABEV3\",\"Consumo C\\u00edclico/Com\\u00e9rcio/AMER3\",\"Consumo N\\u00e3o-C\\u00edclico/Com\\u00e9rcio Distr./ASAI3\",\"Bens Indls/Transporte/AZUL4\",\"Financeiro e Outros/Servi\\u00e7os Financeiros Diversos/B3SA3\",\"Financeiro e Outros/Interms Financs/BBAS3\",\"Financeiro e Outros/Interms Financs/BBDC3\",\"Financeiro e Outros/Interms Financs/BBDC4\",\"Financeiro e Outros/Previd  Seguros/BBSE3\",\"Consumo N\\u00e3o-C\\u00edclico/Alimentos Processados/BEEF3\",\"Financeiro e Outros/Interms Financs/BIDI11\",\"Financeiro e Outros/Interms Financs/BPAC11\",\"Mats B\\u00e1sicos/Minera\\u00e7\\u00e3o/BRAP4\",\"Petr\\u00f3leo/G\\u00e1s e Biocombust\\u00edveis/BRDT3\",\"Consumo N\\u00e3o-C\\u00edclico/Alimentos Processados/BRFS3\",\"Mats B\\u00e1sicos/Qu\\u00edmicos/BRKM5\",\"Financeiro e Outros/Explor Im\\u00f3veis/BRML3\",\"Bens Indls/Transporte/CCRO3\",\"Financeiro e Outros/Servi\\u00e7os Financeiros Diversos/CIEL3\",\"Utilidade P\\u00fabl/Energ El\\u00e9trica/CMIG4\",\"Diverso/Diversos/COGN3\",\"Utilidade P\\u00fabl/Energ El\\u00e9trica/CPFE3\",\"Utilidade P\\u00fabl/Energ El\\u00e9trica/CPLE6\",\"Consumo N\\u00e3o-C\\u00edclico/Com\\u00e9rcio Distr./CRFB3\",\"Petr\\u00f3leo/G\\u00e1s e Biocombust\\u00edveis/CSAN3\",\"Mats B\\u00e1sicos/Sid Metalurgia/CSNA3\",\"Consumo C\\u00edclico/Viagens e Lazer/CVCB3\",\"Consumo C\\u00edclico/Constr Civil/CYRE3\",\"Bens Indls/Transporte/ECOR3\",\"Utilidade P\\u00fabl/Energ El\\u00e9trica/EGIE3\",\"Utilidade P\\u00fabl/Energ El\\u00e9trica/ELET3\",\"Utilidade P\\u00fabl/Energ El\\u00e9trica/ELET6\",\"Bens Indls/Mat Transporte/EMBR3\",\"Utilidade P\\u00fabl/Energ El\\u00e9trica/ENBR3\",\"Utilidade P\\u00fabl/Energ El\\u00e9trica/ENEV3\",\"Utilidade P\\u00fabl/Energ El\\u00e9trica/ENGI11\",\"Utilidade P\\u00fabl/Energ El\\u00e9trica/EQTL3\",\"Consumo C\\u00edclico/Constr Civil/EZTC3\",\"Sa\\u00fade/SM Hosp An.Diag/FLRY3\",\"Mats B\\u00e1sicos/Sid Metalurgia/GGBR4\",\"Sa\\u00fade/SM Hosp An.Diag/GNDI3\",\"Mats B\\u00e1sicos/Sid Metalurgia/GOAU4\",\"Bens Indls/Transporte/GOLL4\",\"Sa\\u00fade/SM Hosp An.Diag/HAPV3\",\"Consumo C\\u00edclico/Tecid Vest Cal\\u00e7/HGTX3\",\"Sa\\u00fade/Com\\u00e9rcio Distr./HYPE3\",\"Financeiro e Outros/Explor Im\\u00f3veis/IGTA3\",\"Financeiro e Outros/Previd  Seguros/IRBR3\",\"Financeiro e Outros/Interms Financs/ITSA4\",\"Financeiro e Outros/Interms Financs/ITUB4\",\"Consumo N\\u00e3o-C\\u00edclico/Alimentos Processados/JBSS3\",\"Consumo C\\u00edclico/Constr Civil/JHSF3\",\"Mats B\\u00e1sicos/Madeira e Papel/KLBN11\",\"Consumo C\\u00edclico/Com\\u00e9rcio/LAME4\",\"Diverso/Diversos/LCAM3\",\"Consumo C\\u00edclico/Com\\u00e9rcio/LREN3\",\"Tec.Informa\\u00e7\\u00e3o/Programas Servs/LWSA3\",\"Consumo C\\u00edclico/Com\\u00e9rcio/MGLU3\",\"Consumo N\\u00e3o-C\\u00edclico/Alimentos Processados/MRFG3\",\"Consumo C\\u00edclico/Constr Civil/MRVE3\",\"Financeiro e Outros/Explor Im\\u00f3veis/MULT3\",\"Consumo N\\u00e3o-C\\u00edclico/Pr Pessoal Limp/NTCO3\",\"Consumo N\\u00e3o-C\\u00edclico/Com\\u00e9rcio Distr./PCAR3\",\"Petr\\u00f3leo/G\\u00e1s e Biocombust\\u00edveis/PETR3\",\"Petr\\u00f3leo/G\\u00e1s e Biocombust\\u00edveis/PETR4\",\"Petr\\u00f3leo/G\\u00e1s e Biocombust\\u00edveis/PRIO3\",\"Sa\\u00fade/SM Hosp An.Diag/QUAL3\",\"Sa\\u00fade/Com\\u00e9rcio Distr./RADL3\",\"Bens Indls/Transporte/RAIL3\",\"Diverso/Diversos/RENT3\",\"Financeiro e Outros/Interms Financs/SANB11\",\"Utilidade P\\u00fabl/\\u00c1gua Saneamento/SBSP3\",\"Financeiro e Outros/Previd  Seguros/SULA11\",\"Mats B\\u00e1sicos/Madeira e Papel/SUZB3\",\"Utilidade P\\u00fabl/Energ El\\u00e9trica/TAEE11\",\"Telecomunica\\u00e7\\u00e3/Telecomunica\\u00e7\\u00e3o/TIMS3\",\"Tec.Informa\\u00e7\\u00e3o/Programas Servs/TOTS3\",\"Petr\\u00f3leo/G\\u00e1s e Biocombust\\u00edveis/UGPA3\",\"Mats B\\u00e1sicos/Sid Metalurgia/USIM5\",\"Mats B\\u00e1sicos/Minera\\u00e7\\u00e3o/VALE3\",\"Consumo C\\u00edclico/Com\\u00e9rcio/VIIA3\",\"Telecomunica\\u00e7\\u00e3/Telecomunica\\u00e7\\u00e3o/VIVT3\",\"Bens Indls/M\\u00e1qs e Equips/WEGE3\",\"Diverso/Diversos/YDUQ3\",\"Consumo N\\u00e3o-C\\u00edclico/Alimentos Processados\",\"Consumo N\\u00e3o-C\\u00edclico/Bebidas\",\"Consumo C\\u00edclico/Com\\u00e9rcio\",\"Consumo N\\u00e3o-C\\u00edclico/Com\\u00e9rcio Distr.\",\"Sa\\u00fade/Com\\u00e9rcio Distr.\",\"Consumo C\\u00edclico/Constr Civil\",\"Diverso/Diversos\",\"Utilidade P\\u00fabl/Energ El\\u00e9trica\",\"Financeiro e Outros/Explor Im\\u00f3veis\",\"Petr\\u00f3leo/G\\u00e1s e Biocombust\\u00edveis\",\"Financeiro e Outros/Interms Financs\",\"Mats B\\u00e1sicos/Madeira e Papel\",\"Bens Indls/Mat Transporte\",\"Mats B\\u00e1sicos/Minera\\u00e7\\u00e3o\",\"Bens Indls/M\\u00e1qs e Equips\",\"Consumo N\\u00e3o-C\\u00edclico/Pr Pessoal Limp\",\"Financeiro e Outros/Previd  Seguros\",\"Tec.Informa\\u00e7\\u00e3o/Programas Servs\",\"Mats B\\u00e1sicos/Qu\\u00edmicos\",\"Sa\\u00fade/SM Hosp An.Diag\",\"Financeiro e Outros/Servi\\u00e7os Financeiros Diversos\",\"Mats B\\u00e1sicos/Sid Metalurgia\",\"Consumo C\\u00edclico/Tecid Vest Cal\\u00e7\",\"Telecomunica\\u00e7\\u00e3/Telecomunica\\u00e7\\u00e3o\",\"Bens Indls/Transporte\",\"Consumo C\\u00edclico/Viagens e Lazer\",\"Utilidade P\\u00fabl/\\u00c1gua Saneamento\",\"Bens Indls\",\"Consumo C\\u00edclico\",\"Consumo N\\u00e3o-C\\u00edclico\",\"Diverso\",\"Financeiro e Outros\",\"Mats B\\u00e1sicos\",\"Petr\\u00f3leo\",\"Sa\\u00fade\",\"Tec.Informa\\u00e7\\u00e3o\",\"Telecomunica\\u00e7\\u00e3\",\"Utilidade P\\u00fabl\"],\"labels\":[\"ABEV3\",\"AMER3\",\"ASAI3\",\"AZUL4\",\"B3SA3\",\"BBAS3\",\"BBDC3\",\"BBDC4\",\"BBSE3\",\"BEEF3\",\"BIDI11\",\"BPAC11\",\"BRAP4\",\"BRDT3\",\"BRFS3\",\"BRKM5\",\"BRML3\",\"CCRO3\",\"CIEL3\",\"CMIG4\",\"COGN3\",\"CPFE3\",\"CPLE6\",\"CRFB3\",\"CSAN3\",\"CSNA3\",\"CVCB3\",\"CYRE3\",\"ECOR3\",\"EGIE3\",\"ELET3\",\"ELET6\",\"EMBR3\",\"ENBR3\",\"ENEV3\",\"ENGI11\",\"EQTL3\",\"EZTC3\",\"FLRY3\",\"GGBR4\",\"GNDI3\",\"GOAU4\",\"GOLL4\",\"HAPV3\",\"HGTX3\",\"HYPE3\",\"IGTA3\",\"IRBR3\",\"ITSA4\",\"ITUB4\",\"JBSS3\",\"JHSF3\",\"KLBN11\",\"LAME4\",\"LCAM3\",\"LREN3\",\"LWSA3\",\"MGLU3\",\"MRFG3\",\"MRVE3\",\"MULT3\",\"NTCO3\",\"PCAR3\",\"PETR3\",\"PETR4\",\"PRIO3\",\"QUAL3\",\"RADL3\",\"RAIL3\",\"RENT3\",\"SANB11\",\"SBSP3\",\"SULA11\",\"SUZB3\",\"TAEE11\",\"TIMS3\",\"TOTS3\",\"UGPA3\",\"USIM5\",\"VALE3\",\"VIIA3\",\"VIVT3\",\"WEGE3\",\"YDUQ3\",\"Alimentos Processados\",\"Bebidas\",\"Com\\u00e9rcio\",\"Com\\u00e9rcio Distr.\",\"Com\\u00e9rcio Distr.\",\"Constr Civil\",\"Diversos\",\"Energ El\\u00e9trica\",\"Explor Im\\u00f3veis\",\"G\\u00e1s e Biocombust\\u00edveis\",\"Interms Financs\",\"Madeira e Papel\",\"Mat Transporte\",\"Minera\\u00e7\\u00e3o\",\"M\\u00e1qs e Equips\",\"Pr Pessoal Limp\",\"Previd  Seguros\",\"Programas Servs\",\"Qu\\u00edmicos\",\"SM Hosp An.Diag\",\"Servi\\u00e7os Financeiros Diversos\",\"Sid Metalurgia\",\"Tecid Vest Cal\\u00e7\",\"Telecomunica\\u00e7\\u00e3o\",\"Transporte\",\"Viagens e Lazer\",\"\\u00c1gua Saneamento\",\"Bens Indls\",\"Consumo C\\u00edclico\",\"Consumo N\\u00e3o-C\\u00edclico\",\"Diverso\",\"Financeiro e Outros\",\"Mats B\\u00e1sicos\",\"Petr\\u00f3leo\",\"Sa\\u00fade\",\"Tec.Informa\\u00e7\\u00e3o\",\"Telecomunica\\u00e7\\u00e3\",\"Utilidade P\\u00fabl\"],\"name\":\"\",\"parents\":[\"Consumo N\\u00e3o-C\\u00edclico/Bebidas\",\"Consumo C\\u00edclico/Com\\u00e9rcio\",\"Consumo N\\u00e3o-C\\u00edclico/Com\\u00e9rcio Distr.\",\"Bens Indls/Transporte\",\"Financeiro e Outros/Servi\\u00e7os Financeiros Diversos\",\"Financeiro e Outros/Interms Financs\",\"Financeiro e Outros/Interms Financs\",\"Financeiro e Outros/Interms Financs\",\"Financeiro e Outros/Previd  Seguros\",\"Consumo N\\u00e3o-C\\u00edclico/Alimentos Processados\",\"Financeiro e Outros/Interms Financs\",\"Financeiro e Outros/Interms Financs\",\"Mats B\\u00e1sicos/Minera\\u00e7\\u00e3o\",\"Petr\\u00f3leo/G\\u00e1s e Biocombust\\u00edveis\",\"Consumo N\\u00e3o-C\\u00edclico/Alimentos Processados\",\"Mats B\\u00e1sicos/Qu\\u00edmicos\",\"Financeiro e Outros/Explor Im\\u00f3veis\",\"Bens Indls/Transporte\",\"Financeiro e Outros/Servi\\u00e7os Financeiros Diversos\",\"Utilidade P\\u00fabl/Energ El\\u00e9trica\",\"Diverso/Diversos\",\"Utilidade P\\u00fabl/Energ El\\u00e9trica\",\"Utilidade P\\u00fabl/Energ El\\u00e9trica\",\"Consumo N\\u00e3o-C\\u00edclico/Com\\u00e9rcio Distr.\",\"Petr\\u00f3leo/G\\u00e1s e Biocombust\\u00edveis\",\"Mats B\\u00e1sicos/Sid Metalurgia\",\"Consumo C\\u00edclico/Viagens e Lazer\",\"Consumo C\\u00edclico/Constr Civil\",\"Bens Indls/Transporte\",\"Utilidade P\\u00fabl/Energ El\\u00e9trica\",\"Utilidade P\\u00fabl/Energ El\\u00e9trica\",\"Utilidade P\\u00fabl/Energ El\\u00e9trica\",\"Bens Indls/Mat Transporte\",\"Utilidade P\\u00fabl/Energ El\\u00e9trica\",\"Utilidade P\\u00fabl/Energ El\\u00e9trica\",\"Utilidade P\\u00fabl/Energ El\\u00e9trica\",\"Utilidade P\\u00fabl/Energ El\\u00e9trica\",\"Consumo C\\u00edclico/Constr Civil\",\"Sa\\u00fade/SM Hosp An.Diag\",\"Mats B\\u00e1sicos/Sid Metalurgia\",\"Sa\\u00fade/SM Hosp An.Diag\",\"Mats B\\u00e1sicos/Sid Metalurgia\",\"Bens Indls/Transporte\",\"Sa\\u00fade/SM Hosp An.Diag\",\"Consumo C\\u00edclico/Tecid Vest Cal\\u00e7\",\"Sa\\u00fade/Com\\u00e9rcio Distr.\",\"Financeiro e Outros/Explor Im\\u00f3veis\",\"Financeiro e Outros/Previd  Seguros\",\"Financeiro e Outros/Interms Financs\",\"Financeiro e Outros/Interms Financs\",\"Consumo N\\u00e3o-C\\u00edclico/Alimentos Processados\",\"Consumo C\\u00edclico/Constr Civil\",\"Mats B\\u00e1sicos/Madeira e Papel\",\"Consumo C\\u00edclico/Com\\u00e9rcio\",\"Diverso/Diversos\",\"Consumo C\\u00edclico/Com\\u00e9rcio\",\"Tec.Informa\\u00e7\\u00e3o/Programas Servs\",\"Consumo C\\u00edclico/Com\\u00e9rcio\",\"Consumo N\\u00e3o-C\\u00edclico/Alimentos Processados\",\"Consumo C\\u00edclico/Constr Civil\",\"Financeiro e Outros/Explor Im\\u00f3veis\",\"Consumo N\\u00e3o-C\\u00edclico/Pr Pessoal Limp\",\"Consumo N\\u00e3o-C\\u00edclico/Com\\u00e9rcio Distr.\",\"Petr\\u00f3leo/G\\u00e1s e Biocombust\\u00edveis\",\"Petr\\u00f3leo/G\\u00e1s e Biocombust\\u00edveis\",\"Petr\\u00f3leo/G\\u00e1s e Biocombust\\u00edveis\",\"Sa\\u00fade/SM Hosp An.Diag\",\"Sa\\u00fade/Com\\u00e9rcio Distr.\",\"Bens Indls/Transporte\",\"Diverso/Diversos\",\"Financeiro e Outros/Interms Financs\",\"Utilidade P\\u00fabl/\\u00c1gua Saneamento\",\"Financeiro e Outros/Previd  Seguros\",\"Mats B\\u00e1sicos/Madeira e Papel\",\"Utilidade P\\u00fabl/Energ El\\u00e9trica\",\"Telecomunica\\u00e7\\u00e3/Telecomunica\\u00e7\\u00e3o\",\"Tec.Informa\\u00e7\\u00e3o/Programas Servs\",\"Petr\\u00f3leo/G\\u00e1s e Biocombust\\u00edveis\",\"Mats B\\u00e1sicos/Sid Metalurgia\",\"Mats B\\u00e1sicos/Minera\\u00e7\\u00e3o\",\"Consumo C\\u00edclico/Com\\u00e9rcio\",\"Telecomunica\\u00e7\\u00e3/Telecomunica\\u00e7\\u00e3o\",\"Bens Indls/M\\u00e1qs e Equips\",\"Diverso/Diversos\",\"Consumo N\\u00e3o-C\\u00edclico\",\"Consumo N\\u00e3o-C\\u00edclico\",\"Consumo C\\u00edclico\",\"Consumo N\\u00e3o-C\\u00edclico\",\"Sa\\u00fade\",\"Consumo C\\u00edclico\",\"Diverso\",\"Utilidade P\\u00fabl\",\"Financeiro e Outros\",\"Petr\\u00f3leo\",\"Financeiro e Outros\",\"Mats B\\u00e1sicos\",\"Bens Indls\",\"Mats B\\u00e1sicos\",\"Bens Indls\",\"Consumo N\\u00e3o-C\\u00edclico\",\"Financeiro e Outros\",\"Tec.Informa\\u00e7\\u00e3o\",\"Mats B\\u00e1sicos\",\"Sa\\u00fade\",\"Financeiro e Outros\",\"Mats B\\u00e1sicos\",\"Consumo C\\u00edclico\",\"Telecomunica\\u00e7\\u00e3\",\"Bens Indls\",\"Consumo C\\u00edclico\",\"Utilidade P\\u00fabl\",\"\",\"\",\"\",\"\",\"\",\"\",\"\",\"\",\"\",\"\",\"\"],\"textfont\":{\"color\":\"white\",\"size\":14},\"type\":\"treemap\",\"values\":[3.475,0.8,0.35100000000000003,0.575,3.89,1.801,1.15,4.552,0.601,0.094,0.888,1.39,0.662,1.46,0.888,0.767,0.35700000000000004,0.653,0.14800000000000002,0.6609999999999999,0.27899999999999997,0.253,0.174,0.34,1.205,1.094,0.231,0.267,0.155,0.449,0.63,0.43200000000000005,0.7909999999999999,0.198,0.915,0.518,1.187,0.121,0.335,1.3259999999999998,2.21,0.419,0.16699999999999998,0.87,0.22399999999999998,0.654,0.139,0.304,2.372,6.76,2.008,0.09,1.135,0.24100000000000002,0.38299999999999995,1.564,0.491,2.492,0.359,0.183,0.242,2.048,0.214,4.825,5.997000000000001,0.722,0.28300000000000003,1.288,1.065,1.564,0.682,0.578,0.391,2.069,0.387,0.45899999999999996,0.889,0.736,0.444,11.407,0.797,0.894,2.523,0.368,3.3489999999999998,3.475,5.894,0.905,1.9420000000000002,0.661,2.594,5.804,0.738,14.945000000000002,19.595,3.2039999999999997,0.7909999999999999,12.069,2.523,2.048,1.296,1.38,0.767,3.698,4.038,3.283,0.22399999999999998,1.353,2.615,0.231,0.578,5.929,7.01,9.777000000000001,2.594,25.666999999999998,19.323,14.945000000000002,5.640000000000001,1.38,1.353,6.382]}],                        {\"height\":900,\"legend\":{\"tracegroupgap\":0},\"margin\":{\"t\":60},\"template\":{\"data\":{\"bar\":[{\"error_x\":{\"color\":\"#2a3f5f\"},\"error_y\":{\"color\":\"#2a3f5f\"},\"marker\":{\"line\":{\"color\":\"#E5ECF6\",\"width\":0.5},\"pattern\":{\"fillmode\":\"overlay\",\"size\":10,\"solidity\":0.2}},\"type\":\"bar\"}],\"barpolar\":[{\"marker\":{\"line\":{\"color\":\"#E5ECF6\",\"width\":0.5},\"pattern\":{\"fillmode\":\"overlay\",\"size\":10,\"solidity\":0.2}},\"type\":\"barpolar\"}],\"carpet\":[{\"aaxis\":{\"endlinecolor\":\"#2a3f5f\",\"gridcolor\":\"white\",\"linecolor\":\"white\",\"minorgridcolor\":\"white\",\"startlinecolor\":\"#2a3f5f\"},\"baxis\":{\"endlinecolor\":\"#2a3f5f\",\"gridcolor\":\"white\",\"linecolor\":\"white\",\"minorgridcolor\":\"white\",\"startlinecolor\":\"#2a3f5f\"},\"type\":\"carpet\"}],\"choropleth\":[{\"colorbar\":{\"outlinewidth\":0,\"ticks\":\"\"},\"type\":\"choropleth\"}],\"contour\":[{\"colorbar\":{\"outlinewidth\":0,\"ticks\":\"\"},\"colorscale\":[[0.0,\"#0d0887\"],[0.1111111111111111,\"#46039f\"],[0.2222222222222222,\"#7201a8\"],[0.3333333333333333,\"#9c179e\"],[0.4444444444444444,\"#bd3786\"],[0.5555555555555556,\"#d8576b\"],[0.6666666666666666,\"#ed7953\"],[0.7777777777777778,\"#fb9f3a\"],[0.8888888888888888,\"#fdca26\"],[1.0,\"#f0f921\"]],\"type\":\"contour\"}],\"contourcarpet\":[{\"colorbar\":{\"outlinewidth\":0,\"ticks\":\"\"},\"type\":\"contourcarpet\"}],\"heatmap\":[{\"colorbar\":{\"outlinewidth\":0,\"ticks\":\"\"},\"colorscale\":[[0.0,\"#0d0887\"],[0.1111111111111111,\"#46039f\"],[0.2222222222222222,\"#7201a8\"],[0.3333333333333333,\"#9c179e\"],[0.4444444444444444,\"#bd3786\"],[0.5555555555555556,\"#d8576b\"],[0.6666666666666666,\"#ed7953\"],[0.7777777777777778,\"#fb9f3a\"],[0.8888888888888888,\"#fdca26\"],[1.0,\"#f0f921\"]],\"type\":\"heatmap\"}],\"heatmapgl\":[{\"colorbar\":{\"outlinewidth\":0,\"ticks\":\"\"},\"colorscale\":[[0.0,\"#0d0887\"],[0.1111111111111111,\"#46039f\"],[0.2222222222222222,\"#7201a8\"],[0.3333333333333333,\"#9c179e\"],[0.4444444444444444,\"#bd3786\"],[0.5555555555555556,\"#d8576b\"],[0.6666666666666666,\"#ed7953\"],[0.7777777777777778,\"#fb9f3a\"],[0.8888888888888888,\"#fdca26\"],[1.0,\"#f0f921\"]],\"type\":\"heatmapgl\"}],\"histogram\":[{\"marker\":{\"pattern\":{\"fillmode\":\"overlay\",\"size\":10,\"solidity\":0.2}},\"type\":\"histogram\"}],\"histogram2d\":[{\"colorbar\":{\"outlinewidth\":0,\"ticks\":\"\"},\"colorscale\":[[0.0,\"#0d0887\"],[0.1111111111111111,\"#46039f\"],[0.2222222222222222,\"#7201a8\"],[0.3333333333333333,\"#9c179e\"],[0.4444444444444444,\"#bd3786\"],[0.5555555555555556,\"#d8576b\"],[0.6666666666666666,\"#ed7953\"],[0.7777777777777778,\"#fb9f3a\"],[0.8888888888888888,\"#fdca26\"],[1.0,\"#f0f921\"]],\"type\":\"histogram2d\"}],\"histogram2dcontour\":[{\"colorbar\":{\"outlinewidth\":0,\"ticks\":\"\"},\"colorscale\":[[0.0,\"#0d0887\"],[0.1111111111111111,\"#46039f\"],[0.2222222222222222,\"#7201a8\"],[0.3333333333333333,\"#9c179e\"],[0.4444444444444444,\"#bd3786\"],[0.5555555555555556,\"#d8576b\"],[0.6666666666666666,\"#ed7953\"],[0.7777777777777778,\"#fb9f3a\"],[0.8888888888888888,\"#fdca26\"],[1.0,\"#f0f921\"]],\"type\":\"histogram2dcontour\"}],\"mesh3d\":[{\"colorbar\":{\"outlinewidth\":0,\"ticks\":\"\"},\"type\":\"mesh3d\"}],\"parcoords\":[{\"line\":{\"colorbar\":{\"outlinewidth\":0,\"ticks\":\"\"}},\"type\":\"parcoords\"}],\"pie\":[{\"automargin\":true,\"type\":\"pie\"}],\"scatter\":[{\"marker\":{\"colorbar\":{\"outlinewidth\":0,\"ticks\":\"\"}},\"type\":\"scatter\"}],\"scatter3d\":[{\"line\":{\"colorbar\":{\"outlinewidth\":0,\"ticks\":\"\"}},\"marker\":{\"colorbar\":{\"outlinewidth\":0,\"ticks\":\"\"}},\"type\":\"scatter3d\"}],\"scattercarpet\":[{\"marker\":{\"colorbar\":{\"outlinewidth\":0,\"ticks\":\"\"}},\"type\":\"scattercarpet\"}],\"scattergeo\":[{\"marker\":{\"colorbar\":{\"outlinewidth\":0,\"ticks\":\"\"}},\"type\":\"scattergeo\"}],\"scattergl\":[{\"marker\":{\"colorbar\":{\"outlinewidth\":0,\"ticks\":\"\"}},\"type\":\"scattergl\"}],\"scattermapbox\":[{\"marker\":{\"colorbar\":{\"outlinewidth\":0,\"ticks\":\"\"}},\"type\":\"scattermapbox\"}],\"scatterpolar\":[{\"marker\":{\"colorbar\":{\"outlinewidth\":0,\"ticks\":\"\"}},\"type\":\"scatterpolar\"}],\"scatterpolargl\":[{\"marker\":{\"colorbar\":{\"outlinewidth\":0,\"ticks\":\"\"}},\"type\":\"scatterpolargl\"}],\"scatterternary\":[{\"marker\":{\"colorbar\":{\"outlinewidth\":0,\"ticks\":\"\"}},\"type\":\"scatterternary\"}],\"surface\":[{\"colorbar\":{\"outlinewidth\":0,\"ticks\":\"\"},\"colorscale\":[[0.0,\"#0d0887\"],[0.1111111111111111,\"#46039f\"],[0.2222222222222222,\"#7201a8\"],[0.3333333333333333,\"#9c179e\"],[0.4444444444444444,\"#bd3786\"],[0.5555555555555556,\"#d8576b\"],[0.6666666666666666,\"#ed7953\"],[0.7777777777777778,\"#fb9f3a\"],[0.8888888888888888,\"#fdca26\"],[1.0,\"#f0f921\"]],\"type\":\"surface\"}],\"table\":[{\"cells\":{\"fill\":{\"color\":\"#EBF0F8\"},\"line\":{\"color\":\"white\"}},\"header\":{\"fill\":{\"color\":\"#C8D4E3\"},\"line\":{\"color\":\"white\"}},\"type\":\"table\"}]},\"layout\":{\"annotationdefaults\":{\"arrowcolor\":\"#2a3f5f\",\"arrowhead\":0,\"arrowwidth\":1},\"autotypenumbers\":\"strict\",\"coloraxis\":{\"colorbar\":{\"outlinewidth\":0,\"ticks\":\"\"}},\"colorscale\":{\"diverging\":[[0,\"#8e0152\"],[0.1,\"#c51b7d\"],[0.2,\"#de77ae\"],[0.3,\"#f1b6da\"],[0.4,\"#fde0ef\"],[0.5,\"#f7f7f7\"],[0.6,\"#e6f5d0\"],[0.7,\"#b8e186\"],[0.8,\"#7fbc41\"],[0.9,\"#4d9221\"],[1,\"#276419\"]],\"sequential\":[[0.0,\"#0d0887\"],[0.1111111111111111,\"#46039f\"],[0.2222222222222222,\"#7201a8\"],[0.3333333333333333,\"#9c179e\"],[0.4444444444444444,\"#bd3786\"],[0.5555555555555556,\"#d8576b\"],[0.6666666666666666,\"#ed7953\"],[0.7777777777777778,\"#fb9f3a\"],[0.8888888888888888,\"#fdca26\"],[1.0,\"#f0f921\"]],\"sequentialminus\":[[0.0,\"#0d0887\"],[0.1111111111111111,\"#46039f\"],[0.2222222222222222,\"#7201a8\"],[0.3333333333333333,\"#9c179e\"],[0.4444444444444444,\"#bd3786\"],[0.5555555555555556,\"#d8576b\"],[0.6666666666666666,\"#ed7953\"],[0.7777777777777778,\"#fb9f3a\"],[0.8888888888888888,\"#fdca26\"],[1.0,\"#f0f921\"]]},\"colorway\":[\"#636efa\",\"#EF553B\",\"#00cc96\",\"#ab63fa\",\"#FFA15A\",\"#19d3f3\",\"#FF6692\",\"#B6E880\",\"#FF97FF\",\"#FECB52\"],\"font\":{\"color\":\"#2a3f5f\"},\"geo\":{\"bgcolor\":\"white\",\"lakecolor\":\"white\",\"landcolor\":\"#E5ECF6\",\"showlakes\":true,\"showland\":true,\"subunitcolor\":\"white\"},\"hoverlabel\":{\"align\":\"left\"},\"hovermode\":\"closest\",\"mapbox\":{\"style\":\"light\"},\"paper_bgcolor\":\"white\",\"plot_bgcolor\":\"#E5ECF6\",\"polar\":{\"angularaxis\":{\"gridcolor\":\"white\",\"linecolor\":\"white\",\"ticks\":\"\"},\"bgcolor\":\"#E5ECF6\",\"radialaxis\":{\"gridcolor\":\"white\",\"linecolor\":\"white\",\"ticks\":\"\"}},\"scene\":{\"xaxis\":{\"backgroundcolor\":\"#E5ECF6\",\"gridcolor\":\"white\",\"gridwidth\":2,\"linecolor\":\"white\",\"showbackground\":true,\"ticks\":\"\",\"zerolinecolor\":\"white\"},\"yaxis\":{\"backgroundcolor\":\"#E5ECF6\",\"gridcolor\":\"white\",\"gridwidth\":2,\"linecolor\":\"white\",\"showbackground\":true,\"ticks\":\"\",\"zerolinecolor\":\"white\"},\"zaxis\":{\"backgroundcolor\":\"#E5ECF6\",\"gridcolor\":\"white\",\"gridwidth\":2,\"linecolor\":\"white\",\"showbackground\":true,\"ticks\":\"\",\"zerolinecolor\":\"white\"}},\"shapedefaults\":{\"line\":{\"color\":\"#2a3f5f\"}},\"ternary\":{\"aaxis\":{\"gridcolor\":\"white\",\"linecolor\":\"white\",\"ticks\":\"\"},\"baxis\":{\"gridcolor\":\"white\",\"linecolor\":\"white\",\"ticks\":\"\"},\"bgcolor\":\"#E5ECF6\",\"caxis\":{\"gridcolor\":\"white\",\"linecolor\":\"white\",\"ticks\":\"\"}},\"title\":{\"x\":0.05},\"xaxis\":{\"automargin\":true,\"gridcolor\":\"white\",\"linecolor\":\"white\",\"ticks\":\"\",\"title\":{\"standoff\":15},\"zerolinecolor\":\"white\",\"zerolinewidth\":2},\"yaxis\":{\"automargin\":true,\"gridcolor\":\"white\",\"linecolor\":\"white\",\"ticks\":\"\",\"title\":{\"standoff\":15},\"zerolinecolor\":\"white\",\"zerolinewidth\":2}}}},                        {\"responsive\": true}                    ).then(function(){\n",
              "                            \n",
              "var gd = document.getElementById('b104b162-d8ae-40fa-a4f4-b6b129c0ddf5');\n",
              "var x = new MutationObserver(function (mutations, observer) {{\n",
              "        var display = window.getComputedStyle(gd).display;\n",
              "        if (!display || display === 'none') {{\n",
              "            console.log([gd, 'removed!']);\n",
              "            Plotly.purge(gd);\n",
              "            observer.disconnect();\n",
              "        }}\n",
              "}});\n",
              "\n",
              "// Listen for the removal of the full notebook cells\n",
              "var notebookContainer = gd.closest('#notebook-container');\n",
              "if (notebookContainer) {{\n",
              "    x.observe(notebookContainer, {childList: true});\n",
              "}}\n",
              "\n",
              "// Listen for the clearing of the current output cell\n",
              "var outputEl = gd.closest('.output');\n",
              "if (outputEl) {{\n",
              "    x.observe(outputEl, {childList: true});\n",
              "}}\n",
              "\n",
              "                        })                };                            </script>        </div>\n",
              "</body>\n",
              "</html>"
            ]
          },
          "metadata": {}
        }
      ]
    },
    {
      "cell_type": "code",
      "metadata": {
        "id": "o02m4gE6ny3f"
      },
      "source": [
        ""
      ],
      "execution_count": 9,
      "outputs": []
    }
  ]
}