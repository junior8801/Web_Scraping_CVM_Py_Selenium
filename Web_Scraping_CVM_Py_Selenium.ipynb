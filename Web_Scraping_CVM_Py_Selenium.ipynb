{
  "nbformat": 4,
  "nbformat_minor": 0,
  "metadata": {
    "colab": {
      "name": "Web_Scraping_CVM_Py_Selenium.ipynb",
      "provenance": [],
      "collapsed_sections": [],
      "authorship_tag": "ABX9TyOxA9OSMIk5C61jf9kp2aSn",
      "include_colab_link": true
    },
    "kernelspec": {
      "name": "python3",
      "display_name": "Python 3"
    },
    "language_info": {
      "name": "python"
    }
  },
  "cells": [
    {
      "cell_type": "markdown",
      "metadata": {
        "id": "view-in-github",
        "colab_type": "text"
      },
      "source": [
        "<a href=\"https://colab.research.google.com/github/junior8801/Web_Scraping_CVM_Py_Selenium/blob/main/Web_Scraping_CVM_Py_Selenium.ipynb\" target=\"_parent\"><img src=\"https://colab.research.google.com/assets/colab-badge.svg\" alt=\"Open In Colab\"/></a>"
      ]
    },
    {
      "cell_type": "markdown",
      "metadata": {
        "id": "LFfqV5T0Xod5"
      },
      "source": [
        "#Web Scraping Composição do Índice Bovespa"
      ]
    },
    {
      "cell_type": "markdown",
      "metadata": {
        "id": "P3Bd5Hg6X_A6"
      },
      "source": [
        "Fonte: https://sistemaswebb3-listados.b3.com.br/indexPage/day/IBOV?language=pt-br\n"
      ]
    },
    {
      "cell_type": "markdown",
      "metadata": {
        "id": "1BulkfGeYB0E"
      },
      "source": [
        "##Bibliotecas"
      ]
    },
    {
      "cell_type": "code",
      "metadata": {
        "id": "MZPFyvZ0XjEo"
      },
      "source": [
        "!pip install -q kora"
      ],
      "execution_count": 1,
      "outputs": []
    },
    {
      "cell_type": "code",
      "metadata": {
        "colab": {
          "base_uri": "https://localhost:8080/"
        },
        "id": "USXjYRcSYHZO",
        "outputId": "5fcfee56-a35e-40e8-a9a3-ef724ec6fb09"
      },
      "source": [
        "!pip install -U plotly"
      ],
      "execution_count": 2,
      "outputs": [
        {
          "output_type": "stream",
          "text": [
            "Requirement already up-to-date: plotly in /usr/local/lib/python3.7/dist-packages (4.14.3)\n",
            "Requirement already satisfied, skipping upgrade: six in /usr/local/lib/python3.7/dist-packages (from plotly) (1.15.0)\n",
            "Requirement already satisfied, skipping upgrade: retrying>=1.3.3 in /usr/local/lib/python3.7/dist-packages (from plotly) (1.3.3)\n"
          ],
          "name": "stdout"
        }
      ]
    },
    {
      "cell_type": "code",
      "metadata": {
        "id": "VJ1NahoSYL2o"
      },
      "source": [
        "from kora.selenium import wd\n",
        "import pandas as pd\n",
        "import numpy as np\n",
        "from google.colab.data_table import DataTable\n",
        "from time import sleep\n",
        "import plotly.express as px"
      ],
      "execution_count": 3,
      "outputs": []
    },
    {
      "cell_type": "markdown",
      "metadata": {
        "id": "82OGpQVXZP1D"
      },
      "source": [
        "##Loading\n",
        "Baixar composição do Ibovespa"
      ]
    },
    {
      "cell_type": "code",
      "metadata": {
        "id": "Iwhj4j5eZPNq"
      },
      "source": [
        "tempo = 10\n",
        "url_base = 'https://sistemaswebb3-listados.b3.com.br/indexPage/day/IBOV?language=pt-br'\n",
        "wd.get(url_base)\n",
        "sleep(tempo)\n",
        "wd.find_element_by_id('segment').send_keys(\"Setor de Atuação\")\n",
        "sleep(tempo)\n",
        "wd.find_element_by_link_text('Download').click()\n",
        "sleep(tempo*3)\n",
        "arquivos = !ls -1t *.csv"
      ],
      "execution_count": 9,
      "outputs": []
    },
    {
      "cell_type": "code",
      "metadata": {
        "id": "PgjWmcZxjldj"
      },
      "source": [
        "ibov = pd.read_csv(arquivos[0],sep=';',encoding='ISO-8859-1',skipfooter=2,engine='python',thousands='.',decimal=',',header=1,index_col=False)"
      ],
      "execution_count": 33,
      "outputs": []
    },
    {
      "cell_type": "markdown",
      "metadata": {
        "id": "q6epBLmkg_gs"
      },
      "source": [
        "##Preparação dos Dados\n",
        "Separar a informação de setor e subsetor"
      ]
    },
    {
      "cell_type": "code",
      "metadata": {
        "id": "Haq80qjsY25U"
      },
      "source": [
        "ibov['SubSetor'] = ibov['Setor'].apply(lambda s: s[s.rfind(\"/\")+1:].strip())\n",
        "ibov['Setor'] = ibov['Setor'].apply(lambda s: s[:s.rfind(\"/\")].strip())"
      ],
      "execution_count": 34,
      "outputs": []
    },
    {
      "cell_type": "markdown",
      "metadata": {
        "id": "T792IZW6hxXZ"
      },
      "source": [
        "Ajuste setores duplicados"
      ]
    },
    {
      "cell_type": "code",
      "metadata": {
        "id": "VbtOhY4yg-lw"
      },
      "source": [
        "ibov.loc[ibov.Setor == 'Cons N  Básico' ,  'Setor'] = 'Consumo Não-Cíclico'\n",
        "ibov.loc[ibov.Setor == 'Cons N Cíclico',  'Setor'] = 'Consumo Não-Cíclico'\n",
        "ibov.loc[ibov.Setor == 'Financ e Outros',  'Setor'] = 'Financeiro e Outros'\n"
      ],
      "execution_count": 40,
      "outputs": []
    },
    {
      "cell_type": "code",
      "metadata": {
        "colab": {
          "base_uri": "https://localhost:8080/",
          "height": 917
        },
        "id": "xSpgUtkDjf4l",
        "outputId": "0e6b0703-965e-41ef-c3fa-adb27a5a4e8f"
      },
      "source": [
        "fig = px.sunburst(data_frame=ibov, path=['Setor','SubSetor','Código'], values='Part. (%)', height=900)\n",
        "fig.update_traces(textfont_color='white',\n",
        "                  textfont_size=14,\n",
        "                  hovertemplate='<b>%{label}:</b> %{value:.2f}%')\n",
        "fig.show()"
      ],
      "execution_count": 43,
      "outputs": [
        {
          "output_type": "display_data",
          "data": {
            "text/html": [
              "<html>\n",
              "<head><meta charset=\"utf-8\" /></head>\n",
              "<body>\n",
              "    <div>            <script src=\"https://cdnjs.cloudflare.com/ajax/libs/mathjax/2.7.5/MathJax.js?config=TeX-AMS-MML_SVG\"></script><script type=\"text/javascript\">if (window.MathJax) {MathJax.Hub.Config({SVG: {font: \"STIX-Web\"}});}</script>                <script type=\"text/javascript\">window.PlotlyConfig = {MathJaxConfig: 'local'};</script>\n",
              "        <script src=\"https://cdn.plot.ly/plotly-latest.min.js\"></script>                <div id=\"c9c1b0d8-4e37-47c3-86b8-ce16afcb539e\" class=\"plotly-graph-div\" style=\"height:900px; width:100%;\"></div>            <script type=\"text/javascript\">                                    window.PLOTLYENV=window.PLOTLYENV || {};                                    if (document.getElementById(\"c9c1b0d8-4e37-47c3-86b8-ce16afcb539e\")) {                    Plotly.newPlot(                        \"c9c1b0d8-4e37-47c3-86b8-ce16afcb539e\",                        [{\"branchvalues\": \"total\", \"domain\": {\"x\": [0.0, 1.0], \"y\": [0.0, 1.0]}, \"hovertemplate\": \"<b>%{label}:</b> %{value:.2f}%\", \"ids\": [\"Consumo N\\u00e3o-C\\u00edclico/Bebidas/ABEV3\", \"Consumo N\\u00e3o-C\\u00edclico/Com\\u00e9rcio Distr./ASAI3\", \"Bens Indls/Transporte/AZUL4\", \"Financeiro e Outros/Servi\\u00e7os Financeiros Diversos/B3SA3\", \"Financeiro e Outros/Interms Financs/BBAS3\", \"Financeiro e Outros/Interms Financs/BBDC3\", \"Financeiro e Outros/Interms Financs/BBDC4\", \"Financeiro e Outros/Previd  Seguros/BBSE3\", \"Consumo N\\u00e3o-C\\u00edclico/Alimentos Processados/BEEF3\", \"Financeiro e Outros/Interms Financs/BPAC11\", \"Mats B\\u00e1sicos/Minera\\u00e7\\u00e3o/BRAP4\", \"Petr\\u00f3leo/G\\u00e1s e Biocombust\\u00edveis/BRDT3\", \"Consumo N\\u00e3o-C\\u00edclico/Alimentos Processados/BRFS3\", \"Mats B\\u00e1sicos/Qu\\u00edmicos/BRKM5\", \"Financeiro e Outros/Explor Im\\u00f3veis/BRML3\", \"Consumo C\\u00edclico/Com\\u00e9rcio/BTOW3\", \"Bens Indls/Transporte/CCRO3\", \"Financeiro e Outros/Servi\\u00e7os Financeiros Diversos/CIEL3\", \"Utilidade P\\u00fabl/Energ El\\u00e9trica/CMIG4\", \"Diverso/Diversos/COGN3\", \"Utilidade P\\u00fabl/Energ El\\u00e9trica/CPFE3\", \"Utilidade P\\u00fabl/Energ El\\u00e9trica/CPLE6\", \"Consumo N\\u00e3o-C\\u00edclico/Com\\u00e9rcio Distr./CRFB3\", \"Petr\\u00f3leo/G\\u00e1s e Biocombust\\u00edveis/CSAN3\", \"Mats B\\u00e1sicos/Sid Metalurgia/CSNA3\", \"Consumo C\\u00edclico/Viagens e Lazer/CVCB3\", \"Consumo C\\u00edclico/Constr Civil/CYRE3\", \"Bens Indls/Transporte/ECOR3\", \"Utilidade P\\u00fabl/Energ El\\u00e9trica/EGIE3\", \"Utilidade P\\u00fabl/Energ El\\u00e9trica/ELET3\", \"Utilidade P\\u00fabl/Energ El\\u00e9trica/ELET6\", \"Bens Indls/Mat Transporte/EMBR3\", \"Utilidade P\\u00fabl/Energ El\\u00e9trica/ENBR3\", \"Utilidade P\\u00fabl/Energ El\\u00e9trica/ENEV3\", \"Utilidade P\\u00fabl/Energ El\\u00e9trica/ENGI11\", \"Utilidade P\\u00fabl/Energ El\\u00e9trica/EQTL3\", \"Consumo C\\u00edclico/Constr Civil/EZTC3\", \"Sa\\u00fade/SM Hosp An.Diag/FLRY3\", \"Mats B\\u00e1sicos/Sid Metalurgia/GGBR4\", \"Sa\\u00fade/SM Hosp An.Diag/GNDI3\", \"Mats B\\u00e1sicos/Sid Metalurgia/GOAU4\", \"Bens Indls/Transporte/GOLL4\", \"Sa\\u00fade/SM Hosp An.Diag/HAPV3\", \"Consumo C\\u00edclico/Tecid Vest Cal\\u00e7/HGTX3\", \"Sa\\u00fade/Com\\u00e9rcio Distr./HYPE3\", \"Financeiro e Outros/Explor Im\\u00f3veis/IGTA3\", \"Financeiro e Outros/Previd  Seguros/IRBR3\", \"Financeiro e Outros/Interms Financs/ITSA4\", \"Financeiro e Outros/Interms Financs/ITUB4\", \"Consumo N\\u00e3o-C\\u00edclico/Alimentos Processados/JBSS3\", \"Consumo C\\u00edclico/Constr Civil/JHSF3\", \"Mats B\\u00e1sicos/Madeira e Papel/KLBN11\", \"Consumo C\\u00edclico/Com\\u00e9rcio/LAME4\", \"Diverso/Diversos/LCAM3\", \"Consumo C\\u00edclico/Com\\u00e9rcio/LREN3\", \"Consumo C\\u00edclico/Com\\u00e9rcio/MGLU3\", \"Consumo N\\u00e3o-C\\u00edclico/Alimentos Processados/MRFG3\", \"Consumo C\\u00edclico/Constr Civil/MRVE3\", \"Financeiro e Outros/Explor Im\\u00f3veis/MULT3\", \"Consumo N\\u00e3o-C\\u00edclico/Pr Pessoal Limp/NTCO3\", \"Consumo N\\u00e3o-C\\u00edclico/Com\\u00e9rcio Distr./PCAR3\", \"Petr\\u00f3leo/G\\u00e1s e Biocombust\\u00edveis/PETR3\", \"Petr\\u00f3leo/G\\u00e1s e Biocombust\\u00edveis/PETR4\", \"Petr\\u00f3leo/G\\u00e1s e Biocombust\\u00edveis/PRIO3\", \"Sa\\u00fade/SM Hosp An.Diag/QUAL3\", \"Sa\\u00fade/Com\\u00e9rcio Distr./RADL3\", \"Bens Indls/Transporte/RAIL3\", \"Diverso/Diversos/RENT3\", \"Financeiro e Outros/Interms Financs/SANB11\", \"Utilidade P\\u00fabl/\\u00c1gua Saneamento/SBSP3\", \"Financeiro e Outros/Previd  Seguros/SULA11\", \"Mats B\\u00e1sicos/Madeira e Papel/SUZB3\", \"Utilidade P\\u00fabl/Energ El\\u00e9trica/TAEE11\", \"Telecomunica\\u00e7\\u00e3/Telecomunica\\u00e7\\u00e3o/TIMS3\", \"Tec.Informa\\u00e7\\u00e3o/Programas Servs/TOTS3\", \"Petr\\u00f3leo/G\\u00e1s e Biocombust\\u00edveis/UGPA3\", \"Mats B\\u00e1sicos/Sid Metalurgia/USIM5\", \"Mats B\\u00e1sicos/Minera\\u00e7\\u00e3o/VALE3\", \"Telecomunica\\u00e7\\u00e3/Telecomunica\\u00e7\\u00e3o/VIVT3\", \"Consumo C\\u00edclico/Com\\u00e9rcio/VVAR3\", \"Bens Indls/M\\u00e1qs e Equips/WEGE3\", \"Diverso/Diversos/YDUQ3\", \"Consumo N\\u00e3o-C\\u00edclico/Alimentos Processados\", \"Consumo N\\u00e3o-C\\u00edclico/Bebidas\", \"Consumo C\\u00edclico/Com\\u00e9rcio\", \"Consumo N\\u00e3o-C\\u00edclico/Com\\u00e9rcio Distr.\", \"Sa\\u00fade/Com\\u00e9rcio Distr.\", \"Consumo C\\u00edclico/Constr Civil\", \"Diverso/Diversos\", \"Utilidade P\\u00fabl/Energ El\\u00e9trica\", \"Financeiro e Outros/Explor Im\\u00f3veis\", \"Petr\\u00f3leo/G\\u00e1s e Biocombust\\u00edveis\", \"Financeiro e Outros/Interms Financs\", \"Mats B\\u00e1sicos/Madeira e Papel\", \"Bens Indls/Mat Transporte\", \"Mats B\\u00e1sicos/Minera\\u00e7\\u00e3o\", \"Bens Indls/M\\u00e1qs e Equips\", \"Consumo N\\u00e3o-C\\u00edclico/Pr Pessoal Limp\", \"Financeiro e Outros/Previd  Seguros\", \"Tec.Informa\\u00e7\\u00e3o/Programas Servs\", \"Mats B\\u00e1sicos/Qu\\u00edmicos\", \"Sa\\u00fade/SM Hosp An.Diag\", \"Financeiro e Outros/Servi\\u00e7os Financeiros Diversos\", \"Mats B\\u00e1sicos/Sid Metalurgia\", \"Consumo C\\u00edclico/Tecid Vest Cal\\u00e7\", \"Telecomunica\\u00e7\\u00e3/Telecomunica\\u00e7\\u00e3o\", \"Bens Indls/Transporte\", \"Consumo C\\u00edclico/Viagens e Lazer\", \"Utilidade P\\u00fabl/\\u00c1gua Saneamento\", \"Bens Indls\", \"Consumo C\\u00edclico\", \"Consumo N\\u00e3o-C\\u00edclico\", \"Diverso\", \"Financeiro e Outros\", \"Mats B\\u00e1sicos\", \"Petr\\u00f3leo\", \"Sa\\u00fade\", \"Tec.Informa\\u00e7\\u00e3o\", \"Telecomunica\\u00e7\\u00e3\", \"Utilidade P\\u00fabl\"], \"labels\": [\"ABEV3\", \"ASAI3\", \"AZUL4\", \"B3SA3\", \"BBAS3\", \"BBDC3\", \"BBDC4\", \"BBSE3\", \"BEEF3\", \"BPAC11\", \"BRAP4\", \"BRDT3\", \"BRFS3\", \"BRKM5\", \"BRML3\", \"BTOW3\", \"CCRO3\", \"CIEL3\", \"CMIG4\", \"COGN3\", \"CPFE3\", \"CPLE6\", \"CRFB3\", \"CSAN3\", \"CSNA3\", \"CVCB3\", \"CYRE3\", \"ECOR3\", \"EGIE3\", \"ELET3\", \"ELET6\", \"EMBR3\", \"ENBR3\", \"ENEV3\", \"ENGI11\", \"EQTL3\", \"EZTC3\", \"FLRY3\", \"GGBR4\", \"GNDI3\", \"GOAU4\", \"GOLL4\", \"HAPV3\", \"HGTX3\", \"HYPE3\", \"IGTA3\", \"IRBR3\", \"ITSA4\", \"ITUB4\", \"JBSS3\", \"JHSF3\", \"KLBN11\", \"LAME4\", \"LCAM3\", \"LREN3\", \"MGLU3\", \"MRFG3\", \"MRVE3\", \"MULT3\", \"NTCO3\", \"PCAR3\", \"PETR3\", \"PETR4\", \"PRIO3\", \"QUAL3\", \"RADL3\", \"RAIL3\", \"RENT3\", \"SANB11\", \"SBSP3\", \"SULA11\", \"SUZB3\", \"TAEE11\", \"TIMS3\", \"TOTS3\", \"UGPA3\", \"USIM5\", \"VALE3\", \"VIVT3\", \"VVAR3\", \"WEGE3\", \"YDUQ3\", \"Alimentos Processados\", \"Bebidas\", \"Com\\u00e9rcio\", \"Com\\u00e9rcio Distr.\", \"Com\\u00e9rcio Distr.\", \"Constr Civil\", \"Diversos\", \"Energ El\\u00e9trica\", \"Explor Im\\u00f3veis\", \"G\\u00e1s e Biocombust\\u00edveis\", \"Interms Financs\", \"Madeira e Papel\", \"Mat Transporte\", \"Minera\\u00e7\\u00e3o\", \"M\\u00e1qs e Equips\", \"Pr Pessoal Limp\", \"Previd  Seguros\", \"Programas Servs\", \"Qu\\u00edmicos\", \"SM Hosp An.Diag\", \"Servi\\u00e7os Financeiros Diversos\", \"Sid Metalurgia\", \"Tecid Vest Cal\\u00e7\", \"Telecomunica\\u00e7\\u00e3o\", \"Transporte\", \"Viagens e Lazer\", \"\\u00c1gua Saneamento\", \"Bens Indls\", \"Consumo C\\u00edclico\", \"Consumo N\\u00e3o-C\\u00edclico\", \"Diverso\", \"Financeiro e Outros\", \"Mats B\\u00e1sicos\", \"Petr\\u00f3leo\", \"Sa\\u00fade\", \"Tec.Informa\\u00e7\\u00e3o\", \"Telecomunica\\u00e7\\u00e3\", \"Utilidade P\\u00fabl\"], \"name\": \"\", \"parents\": [\"Consumo N\\u00e3o-C\\u00edclico/Bebidas\", \"Consumo N\\u00e3o-C\\u00edclico/Com\\u00e9rcio Distr.\", \"Bens Indls/Transporte\", \"Financeiro e Outros/Servi\\u00e7os Financeiros Diversos\", \"Financeiro e Outros/Interms Financs\", \"Financeiro e Outros/Interms Financs\", \"Financeiro e Outros/Interms Financs\", \"Financeiro e Outros/Previd  Seguros\", \"Consumo N\\u00e3o-C\\u00edclico/Alimentos Processados\", \"Financeiro e Outros/Interms Financs\", \"Mats B\\u00e1sicos/Minera\\u00e7\\u00e3o\", \"Petr\\u00f3leo/G\\u00e1s e Biocombust\\u00edveis\", \"Consumo N\\u00e3o-C\\u00edclico/Alimentos Processados\", \"Mats B\\u00e1sicos/Qu\\u00edmicos\", \"Financeiro e Outros/Explor Im\\u00f3veis\", \"Consumo C\\u00edclico/Com\\u00e9rcio\", \"Bens Indls/Transporte\", \"Financeiro e Outros/Servi\\u00e7os Financeiros Diversos\", \"Utilidade P\\u00fabl/Energ El\\u00e9trica\", \"Diverso/Diversos\", \"Utilidade P\\u00fabl/Energ El\\u00e9trica\", \"Utilidade P\\u00fabl/Energ El\\u00e9trica\", \"Consumo N\\u00e3o-C\\u00edclico/Com\\u00e9rcio Distr.\", \"Petr\\u00f3leo/G\\u00e1s e Biocombust\\u00edveis\", \"Mats B\\u00e1sicos/Sid Metalurgia\", \"Consumo C\\u00edclico/Viagens e Lazer\", \"Consumo C\\u00edclico/Constr Civil\", \"Bens Indls/Transporte\", \"Utilidade P\\u00fabl/Energ El\\u00e9trica\", \"Utilidade P\\u00fabl/Energ El\\u00e9trica\", \"Utilidade P\\u00fabl/Energ El\\u00e9trica\", \"Bens Indls/Mat Transporte\", \"Utilidade P\\u00fabl/Energ El\\u00e9trica\", \"Utilidade P\\u00fabl/Energ El\\u00e9trica\", \"Utilidade P\\u00fabl/Energ El\\u00e9trica\", \"Utilidade P\\u00fabl/Energ El\\u00e9trica\", \"Consumo C\\u00edclico/Constr Civil\", \"Sa\\u00fade/SM Hosp An.Diag\", \"Mats B\\u00e1sicos/Sid Metalurgia\", \"Sa\\u00fade/SM Hosp An.Diag\", \"Mats B\\u00e1sicos/Sid Metalurgia\", \"Bens Indls/Transporte\", \"Sa\\u00fade/SM Hosp An.Diag\", \"Consumo C\\u00edclico/Tecid Vest Cal\\u00e7\", \"Sa\\u00fade/Com\\u00e9rcio Distr.\", \"Financeiro e Outros/Explor Im\\u00f3veis\", \"Financeiro e Outros/Previd  Seguros\", \"Financeiro e Outros/Interms Financs\", \"Financeiro e Outros/Interms Financs\", \"Consumo N\\u00e3o-C\\u00edclico/Alimentos Processados\", \"Consumo C\\u00edclico/Constr Civil\", \"Mats B\\u00e1sicos/Madeira e Papel\", \"Consumo C\\u00edclico/Com\\u00e9rcio\", \"Diverso/Diversos\", \"Consumo C\\u00edclico/Com\\u00e9rcio\", \"Consumo C\\u00edclico/Com\\u00e9rcio\", \"Consumo N\\u00e3o-C\\u00edclico/Alimentos Processados\", \"Consumo C\\u00edclico/Constr Civil\", \"Financeiro e Outros/Explor Im\\u00f3veis\", \"Consumo N\\u00e3o-C\\u00edclico/Pr Pessoal Limp\", \"Consumo N\\u00e3o-C\\u00edclico/Com\\u00e9rcio Distr.\", \"Petr\\u00f3leo/G\\u00e1s e Biocombust\\u00edveis\", \"Petr\\u00f3leo/G\\u00e1s e Biocombust\\u00edveis\", \"Petr\\u00f3leo/G\\u00e1s e Biocombust\\u00edveis\", \"Sa\\u00fade/SM Hosp An.Diag\", \"Sa\\u00fade/Com\\u00e9rcio Distr.\", \"Bens Indls/Transporte\", \"Diverso/Diversos\", \"Financeiro e Outros/Interms Financs\", \"Utilidade P\\u00fabl/\\u00c1gua Saneamento\", \"Financeiro e Outros/Previd  Seguros\", \"Mats B\\u00e1sicos/Madeira e Papel\", \"Utilidade P\\u00fabl/Energ El\\u00e9trica\", \"Telecomunica\\u00e7\\u00e3/Telecomunica\\u00e7\\u00e3o\", \"Tec.Informa\\u00e7\\u00e3o/Programas Servs\", \"Petr\\u00f3leo/G\\u00e1s e Biocombust\\u00edveis\", \"Mats B\\u00e1sicos/Sid Metalurgia\", \"Mats B\\u00e1sicos/Minera\\u00e7\\u00e3o\", \"Telecomunica\\u00e7\\u00e3/Telecomunica\\u00e7\\u00e3o\", \"Consumo C\\u00edclico/Com\\u00e9rcio\", \"Bens Indls/M\\u00e1qs e Equips\", \"Diverso/Diversos\", \"Consumo N\\u00e3o-C\\u00edclico\", \"Consumo N\\u00e3o-C\\u00edclico\", \"Consumo C\\u00edclico\", \"Consumo N\\u00e3o-C\\u00edclico\", \"Sa\\u00fade\", \"Consumo C\\u00edclico\", \"Diverso\", \"Utilidade P\\u00fabl\", \"Financeiro e Outros\", \"Petr\\u00f3leo\", \"Financeiro e Outros\", \"Mats B\\u00e1sicos\", \"Bens Indls\", \"Mats B\\u00e1sicos\", \"Bens Indls\", \"Consumo N\\u00e3o-C\\u00edclico\", \"Financeiro e Outros\", \"Tec.Informa\\u00e7\\u00e3o\", \"Mats B\\u00e1sicos\", \"Sa\\u00fade\", \"Financeiro e Outros\", \"Mats B\\u00e1sicos\", \"Consumo C\\u00edclico\", \"Telecomunica\\u00e7\\u00e3\", \"Bens Indls\", \"Consumo C\\u00edclico\", \"Utilidade P\\u00fabl\", \"\", \"\", \"\", \"\", \"\", \"\", \"\", \"\", \"\", \"\", \"\"], \"textfont\": {\"color\": \"white\", \"size\": 14}, \"type\": \"sunburst\", \"values\": [3.1460000000000004, 0.574, 0.563, 4.794, 1.7309999999999999, 1.19, 5.004, 0.723, 0.122, 1.192, 0.732, 1.155, 0.898, 0.584, 0.376, 0.626, 0.628, 0.18600000000000003, 0.5660000000000001, 0.34600000000000003, 0.261, 0.375, 0.41100000000000003, 0.664, 1.375, 0.168, 0.32299999999999995, 0.08800000000000001, 0.48100000000000004, 0.557, 0.382, 0.535, 0.214, 0.865, 0.491, 1.129, 0.147, 0.374, 1.479, 2.1959999999999997, 0.46299999999999997, 0.14400000000000002, 0.746, 0.126, 0.652, 0.147, 0.35700000000000004, 2.109, 5.985, 2.356, 0.091, 1.079, 0.893, 0.385, 1.4980000000000002, 2.697, 0.324, 0.251, 0.299, 2.023, 0.26, 3.451, 4.7989999999999995, 0.732, 0.37799999999999995, 1.219, 1.1420000000000001, 1.714, 0.625, 0.6579999999999999, 0.431, 2.379, 0.39, 0.45399999999999996, 0.684, 1.045, 0.491, 13.972999999999999, 0.8859999999999999, 0.9309999999999999, 2.641, 0.441, 3.6999999999999997, 3.1460000000000004, 6.6450000000000005, 1.245, 1.871, 0.8119999999999999, 2.886, 5.710999999999999, 0.8220000000000001, 11.845999999999998, 17.836, 3.458, 0.535, 14.704999999999998, 2.641, 2.023, 1.5110000000000001, 0.684, 0.584, 3.694, 4.9799999999999995, 3.8080000000000003, 0.126, 1.3399999999999999, 2.5650000000000004, 0.168, 0.6579999999999999, 5.7410000000000005, 7.751000000000002, 10.113999999999999, 2.886, 25.149, 22.555, 11.845999999999998, 5.5649999999999995, 0.684, 1.3399999999999999, 6.368999999999999]}],                        {\"height\": 900, \"legend\": {\"tracegroupgap\": 0}, \"margin\": {\"t\": 60}, \"template\": {\"data\": {\"bar\": [{\"error_x\": {\"color\": \"#2a3f5f\"}, \"error_y\": {\"color\": \"#2a3f5f\"}, \"marker\": {\"line\": {\"color\": \"#E5ECF6\", \"width\": 0.5}}, \"type\": \"bar\"}], \"barpolar\": [{\"marker\": {\"line\": {\"color\": \"#E5ECF6\", \"width\": 0.5}}, \"type\": \"barpolar\"}], \"carpet\": [{\"aaxis\": {\"endlinecolor\": \"#2a3f5f\", \"gridcolor\": \"white\", \"linecolor\": \"white\", \"minorgridcolor\": \"white\", \"startlinecolor\": \"#2a3f5f\"}, \"baxis\": {\"endlinecolor\": \"#2a3f5f\", \"gridcolor\": \"white\", \"linecolor\": \"white\", \"minorgridcolor\": \"white\", \"startlinecolor\": \"#2a3f5f\"}, \"type\": \"carpet\"}], \"choropleth\": [{\"colorbar\": {\"outlinewidth\": 0, \"ticks\": \"\"}, \"type\": \"choropleth\"}], \"contour\": [{\"colorbar\": {\"outlinewidth\": 0, \"ticks\": \"\"}, \"colorscale\": [[0.0, \"#0d0887\"], [0.1111111111111111, \"#46039f\"], [0.2222222222222222, \"#7201a8\"], [0.3333333333333333, \"#9c179e\"], [0.4444444444444444, \"#bd3786\"], [0.5555555555555556, \"#d8576b\"], [0.6666666666666666, \"#ed7953\"], [0.7777777777777778, \"#fb9f3a\"], [0.8888888888888888, \"#fdca26\"], [1.0, \"#f0f921\"]], \"type\": \"contour\"}], \"contourcarpet\": [{\"colorbar\": {\"outlinewidth\": 0, \"ticks\": \"\"}, \"type\": \"contourcarpet\"}], \"heatmap\": [{\"colorbar\": {\"outlinewidth\": 0, \"ticks\": \"\"}, \"colorscale\": [[0.0, \"#0d0887\"], [0.1111111111111111, \"#46039f\"], [0.2222222222222222, \"#7201a8\"], [0.3333333333333333, \"#9c179e\"], [0.4444444444444444, \"#bd3786\"], [0.5555555555555556, \"#d8576b\"], [0.6666666666666666, \"#ed7953\"], [0.7777777777777778, \"#fb9f3a\"], [0.8888888888888888, \"#fdca26\"], [1.0, \"#f0f921\"]], \"type\": \"heatmap\"}], \"heatmapgl\": [{\"colorbar\": {\"outlinewidth\": 0, \"ticks\": \"\"}, \"colorscale\": [[0.0, \"#0d0887\"], [0.1111111111111111, \"#46039f\"], [0.2222222222222222, \"#7201a8\"], [0.3333333333333333, \"#9c179e\"], [0.4444444444444444, \"#bd3786\"], [0.5555555555555556, \"#d8576b\"], [0.6666666666666666, \"#ed7953\"], [0.7777777777777778, \"#fb9f3a\"], [0.8888888888888888, \"#fdca26\"], [1.0, \"#f0f921\"]], \"type\": \"heatmapgl\"}], \"histogram\": [{\"marker\": {\"colorbar\": {\"outlinewidth\": 0, \"ticks\": \"\"}}, \"type\": \"histogram\"}], \"histogram2d\": [{\"colorbar\": {\"outlinewidth\": 0, \"ticks\": \"\"}, \"colorscale\": [[0.0, \"#0d0887\"], [0.1111111111111111, \"#46039f\"], [0.2222222222222222, \"#7201a8\"], [0.3333333333333333, \"#9c179e\"], [0.4444444444444444, \"#bd3786\"], [0.5555555555555556, \"#d8576b\"], [0.6666666666666666, \"#ed7953\"], [0.7777777777777778, \"#fb9f3a\"], [0.8888888888888888, \"#fdca26\"], [1.0, \"#f0f921\"]], \"type\": \"histogram2d\"}], \"histogram2dcontour\": [{\"colorbar\": {\"outlinewidth\": 0, \"ticks\": \"\"}, \"colorscale\": [[0.0, \"#0d0887\"], [0.1111111111111111, \"#46039f\"], [0.2222222222222222, \"#7201a8\"], [0.3333333333333333, \"#9c179e\"], [0.4444444444444444, \"#bd3786\"], [0.5555555555555556, \"#d8576b\"], [0.6666666666666666, \"#ed7953\"], [0.7777777777777778, \"#fb9f3a\"], [0.8888888888888888, \"#fdca26\"], [1.0, \"#f0f921\"]], \"type\": \"histogram2dcontour\"}], \"mesh3d\": [{\"colorbar\": {\"outlinewidth\": 0, \"ticks\": \"\"}, \"type\": \"mesh3d\"}], \"parcoords\": [{\"line\": {\"colorbar\": {\"outlinewidth\": 0, \"ticks\": \"\"}}, \"type\": \"parcoords\"}], \"pie\": [{\"automargin\": true, \"type\": \"pie\"}], \"scatter\": [{\"marker\": {\"colorbar\": {\"outlinewidth\": 0, \"ticks\": \"\"}}, \"type\": \"scatter\"}], \"scatter3d\": [{\"line\": {\"colorbar\": {\"outlinewidth\": 0, \"ticks\": \"\"}}, \"marker\": {\"colorbar\": {\"outlinewidth\": 0, \"ticks\": \"\"}}, \"type\": \"scatter3d\"}], \"scattercarpet\": [{\"marker\": {\"colorbar\": {\"outlinewidth\": 0, \"ticks\": \"\"}}, \"type\": \"scattercarpet\"}], \"scattergeo\": [{\"marker\": {\"colorbar\": {\"outlinewidth\": 0, \"ticks\": \"\"}}, \"type\": \"scattergeo\"}], \"scattergl\": [{\"marker\": {\"colorbar\": {\"outlinewidth\": 0, \"ticks\": \"\"}}, \"type\": \"scattergl\"}], \"scattermapbox\": [{\"marker\": {\"colorbar\": {\"outlinewidth\": 0, \"ticks\": \"\"}}, \"type\": \"scattermapbox\"}], \"scatterpolar\": [{\"marker\": {\"colorbar\": {\"outlinewidth\": 0, \"ticks\": \"\"}}, \"type\": \"scatterpolar\"}], \"scatterpolargl\": [{\"marker\": {\"colorbar\": {\"outlinewidth\": 0, \"ticks\": \"\"}}, \"type\": \"scatterpolargl\"}], \"scatterternary\": [{\"marker\": {\"colorbar\": {\"outlinewidth\": 0, \"ticks\": \"\"}}, \"type\": \"scatterternary\"}], \"surface\": [{\"colorbar\": {\"outlinewidth\": 0, \"ticks\": \"\"}, \"colorscale\": [[0.0, \"#0d0887\"], [0.1111111111111111, \"#46039f\"], [0.2222222222222222, \"#7201a8\"], [0.3333333333333333, \"#9c179e\"], [0.4444444444444444, \"#bd3786\"], [0.5555555555555556, \"#d8576b\"], [0.6666666666666666, \"#ed7953\"], [0.7777777777777778, \"#fb9f3a\"], [0.8888888888888888, \"#fdca26\"], [1.0, \"#f0f921\"]], \"type\": \"surface\"}], \"table\": [{\"cells\": {\"fill\": {\"color\": \"#EBF0F8\"}, \"line\": {\"color\": \"white\"}}, \"header\": {\"fill\": {\"color\": \"#C8D4E3\"}, \"line\": {\"color\": \"white\"}}, \"type\": \"table\"}]}, \"layout\": {\"annotationdefaults\": {\"arrowcolor\": \"#2a3f5f\", \"arrowhead\": 0, \"arrowwidth\": 1}, \"autotypenumbers\": \"strict\", \"coloraxis\": {\"colorbar\": {\"outlinewidth\": 0, \"ticks\": \"\"}}, \"colorscale\": {\"diverging\": [[0, \"#8e0152\"], [0.1, \"#c51b7d\"], [0.2, \"#de77ae\"], [0.3, \"#f1b6da\"], [0.4, \"#fde0ef\"], [0.5, \"#f7f7f7\"], [0.6, \"#e6f5d0\"], [0.7, \"#b8e186\"], [0.8, \"#7fbc41\"], [0.9, \"#4d9221\"], [1, \"#276419\"]], \"sequential\": [[0.0, \"#0d0887\"], [0.1111111111111111, \"#46039f\"], [0.2222222222222222, \"#7201a8\"], [0.3333333333333333, \"#9c179e\"], [0.4444444444444444, \"#bd3786\"], [0.5555555555555556, \"#d8576b\"], [0.6666666666666666, \"#ed7953\"], [0.7777777777777778, \"#fb9f3a\"], [0.8888888888888888, \"#fdca26\"], [1.0, \"#f0f921\"]], \"sequentialminus\": [[0.0, \"#0d0887\"], [0.1111111111111111, \"#46039f\"], [0.2222222222222222, \"#7201a8\"], [0.3333333333333333, \"#9c179e\"], [0.4444444444444444, \"#bd3786\"], [0.5555555555555556, \"#d8576b\"], [0.6666666666666666, \"#ed7953\"], [0.7777777777777778, \"#fb9f3a\"], [0.8888888888888888, \"#fdca26\"], [1.0, \"#f0f921\"]]}, \"colorway\": [\"#636efa\", \"#EF553B\", \"#00cc96\", \"#ab63fa\", \"#FFA15A\", \"#19d3f3\", \"#FF6692\", \"#B6E880\", \"#FF97FF\", \"#FECB52\"], \"font\": {\"color\": \"#2a3f5f\"}, \"geo\": {\"bgcolor\": \"white\", \"lakecolor\": \"white\", \"landcolor\": \"#E5ECF6\", \"showlakes\": true, \"showland\": true, \"subunitcolor\": \"white\"}, \"hoverlabel\": {\"align\": \"left\"}, \"hovermode\": \"closest\", \"mapbox\": {\"style\": \"light\"}, \"paper_bgcolor\": \"white\", \"plot_bgcolor\": \"#E5ECF6\", \"polar\": {\"angularaxis\": {\"gridcolor\": \"white\", \"linecolor\": \"white\", \"ticks\": \"\"}, \"bgcolor\": \"#E5ECF6\", \"radialaxis\": {\"gridcolor\": \"white\", \"linecolor\": \"white\", \"ticks\": \"\"}}, \"scene\": {\"xaxis\": {\"backgroundcolor\": \"#E5ECF6\", \"gridcolor\": \"white\", \"gridwidth\": 2, \"linecolor\": \"white\", \"showbackground\": true, \"ticks\": \"\", \"zerolinecolor\": \"white\"}, \"yaxis\": {\"backgroundcolor\": \"#E5ECF6\", \"gridcolor\": \"white\", \"gridwidth\": 2, \"linecolor\": \"white\", \"showbackground\": true, \"ticks\": \"\", \"zerolinecolor\": \"white\"}, \"zaxis\": {\"backgroundcolor\": \"#E5ECF6\", \"gridcolor\": \"white\", \"gridwidth\": 2, \"linecolor\": \"white\", \"showbackground\": true, \"ticks\": \"\", \"zerolinecolor\": \"white\"}}, \"shapedefaults\": {\"line\": {\"color\": \"#2a3f5f\"}}, \"ternary\": {\"aaxis\": {\"gridcolor\": \"white\", \"linecolor\": \"white\", \"ticks\": \"\"}, \"baxis\": {\"gridcolor\": \"white\", \"linecolor\": \"white\", \"ticks\": \"\"}, \"bgcolor\": \"#E5ECF6\", \"caxis\": {\"gridcolor\": \"white\", \"linecolor\": \"white\", \"ticks\": \"\"}}, \"title\": {\"x\": 0.05}, \"xaxis\": {\"automargin\": true, \"gridcolor\": \"white\", \"linecolor\": \"white\", \"ticks\": \"\", \"title\": {\"standoff\": 15}, \"zerolinecolor\": \"white\", \"zerolinewidth\": 2}, \"yaxis\": {\"automargin\": true, \"gridcolor\": \"white\", \"linecolor\": \"white\", \"ticks\": \"\", \"title\": {\"standoff\": 15}, \"zerolinecolor\": \"white\", \"zerolinewidth\": 2}}}},                        {\"responsive\": true}                    ).then(function(){\n",
              "                            \n",
              "var gd = document.getElementById('c9c1b0d8-4e37-47c3-86b8-ce16afcb539e');\n",
              "var x = new MutationObserver(function (mutations, observer) {{\n",
              "        var display = window.getComputedStyle(gd).display;\n",
              "        if (!display || display === 'none') {{\n",
              "            console.log([gd, 'removed!']);\n",
              "            Plotly.purge(gd);\n",
              "            observer.disconnect();\n",
              "        }}\n",
              "}});\n",
              "\n",
              "// Listen for the removal of the full notebook cells\n",
              "var notebookContainer = gd.closest('#notebook-container');\n",
              "if (notebookContainer) {{\n",
              "    x.observe(notebookContainer, {childList: true});\n",
              "}}\n",
              "\n",
              "// Listen for the clearing of the current output cell\n",
              "var outputEl = gd.closest('.output');\n",
              "if (outputEl) {{\n",
              "    x.observe(outputEl, {childList: true});\n",
              "}}\n",
              "\n",
              "                        })                };                            </script>        </div>\n",
              "</body>\n",
              "</html>"
            ]
          },
          "metadata": {
            "tags": []
          }
        }
      ]
    },
    {
      "cell_type": "code",
      "metadata": {
        "colab": {
          "base_uri": "https://localhost:8080/",
          "height": 917
        },
        "id": "79q4dUc0mwBR",
        "outputId": "9672aaf8-7ea0-4280-95dd-df640b58ce66"
      },
      "source": [
        "fig = px.treemap(data_frame=ibov, path=['Setor','SubSetor','Código'], values='Part. (%)', height=900)\n",
        "fig.update_traces(textfont_color='white',\n",
        "                  textfont_size=14,\n",
        "                  hovertemplate='<b>%{label}:</b> %{value:.2f}%')\n",
        "fig.show()"
      ],
      "execution_count": 44,
      "outputs": [
        {
          "output_type": "display_data",
          "data": {
            "text/html": [
              "<html>\n",
              "<head><meta charset=\"utf-8\" /></head>\n",
              "<body>\n",
              "    <div>            <script src=\"https://cdnjs.cloudflare.com/ajax/libs/mathjax/2.7.5/MathJax.js?config=TeX-AMS-MML_SVG\"></script><script type=\"text/javascript\">if (window.MathJax) {MathJax.Hub.Config({SVG: {font: \"STIX-Web\"}});}</script>                <script type=\"text/javascript\">window.PlotlyConfig = {MathJaxConfig: 'local'};</script>\n",
              "        <script src=\"https://cdn.plot.ly/plotly-latest.min.js\"></script>                <div id=\"b82aeca4-169d-4664-ad0b-aae0e54194a6\" class=\"plotly-graph-div\" style=\"height:900px; width:100%;\"></div>            <script type=\"text/javascript\">                                    window.PLOTLYENV=window.PLOTLYENV || {};                                    if (document.getElementById(\"b82aeca4-169d-4664-ad0b-aae0e54194a6\")) {                    Plotly.newPlot(                        \"b82aeca4-169d-4664-ad0b-aae0e54194a6\",                        [{\"branchvalues\": \"total\", \"domain\": {\"x\": [0.0, 1.0], \"y\": [0.0, 1.0]}, \"hovertemplate\": \"<b>%{label}:</b> %{value:.2f}%\", \"ids\": [\"Consumo N\\u00e3o-C\\u00edclico/Bebidas/ABEV3\", \"Consumo N\\u00e3o-C\\u00edclico/Com\\u00e9rcio Distr./ASAI3\", \"Bens Indls/Transporte/AZUL4\", \"Financeiro e Outros/Servi\\u00e7os Financeiros Diversos/B3SA3\", \"Financeiro e Outros/Interms Financs/BBAS3\", \"Financeiro e Outros/Interms Financs/BBDC3\", \"Financeiro e Outros/Interms Financs/BBDC4\", \"Financeiro e Outros/Previd  Seguros/BBSE3\", \"Consumo N\\u00e3o-C\\u00edclico/Alimentos Processados/BEEF3\", \"Financeiro e Outros/Interms Financs/BPAC11\", \"Mats B\\u00e1sicos/Minera\\u00e7\\u00e3o/BRAP4\", \"Petr\\u00f3leo/G\\u00e1s e Biocombust\\u00edveis/BRDT3\", \"Consumo N\\u00e3o-C\\u00edclico/Alimentos Processados/BRFS3\", \"Mats B\\u00e1sicos/Qu\\u00edmicos/BRKM5\", \"Financeiro e Outros/Explor Im\\u00f3veis/BRML3\", \"Consumo C\\u00edclico/Com\\u00e9rcio/BTOW3\", \"Bens Indls/Transporte/CCRO3\", \"Financeiro e Outros/Servi\\u00e7os Financeiros Diversos/CIEL3\", \"Utilidade P\\u00fabl/Energ El\\u00e9trica/CMIG4\", \"Diverso/Diversos/COGN3\", \"Utilidade P\\u00fabl/Energ El\\u00e9trica/CPFE3\", \"Utilidade P\\u00fabl/Energ El\\u00e9trica/CPLE6\", \"Consumo N\\u00e3o-C\\u00edclico/Com\\u00e9rcio Distr./CRFB3\", \"Petr\\u00f3leo/G\\u00e1s e Biocombust\\u00edveis/CSAN3\", \"Mats B\\u00e1sicos/Sid Metalurgia/CSNA3\", \"Consumo C\\u00edclico/Viagens e Lazer/CVCB3\", \"Consumo C\\u00edclico/Constr Civil/CYRE3\", \"Bens Indls/Transporte/ECOR3\", \"Utilidade P\\u00fabl/Energ El\\u00e9trica/EGIE3\", \"Utilidade P\\u00fabl/Energ El\\u00e9trica/ELET3\", \"Utilidade P\\u00fabl/Energ El\\u00e9trica/ELET6\", \"Bens Indls/Mat Transporte/EMBR3\", \"Utilidade P\\u00fabl/Energ El\\u00e9trica/ENBR3\", \"Utilidade P\\u00fabl/Energ El\\u00e9trica/ENEV3\", \"Utilidade P\\u00fabl/Energ El\\u00e9trica/ENGI11\", \"Utilidade P\\u00fabl/Energ El\\u00e9trica/EQTL3\", \"Consumo C\\u00edclico/Constr Civil/EZTC3\", \"Sa\\u00fade/SM Hosp An.Diag/FLRY3\", \"Mats B\\u00e1sicos/Sid Metalurgia/GGBR4\", \"Sa\\u00fade/SM Hosp An.Diag/GNDI3\", \"Mats B\\u00e1sicos/Sid Metalurgia/GOAU4\", \"Bens Indls/Transporte/GOLL4\", \"Sa\\u00fade/SM Hosp An.Diag/HAPV3\", \"Consumo C\\u00edclico/Tecid Vest Cal\\u00e7/HGTX3\", \"Sa\\u00fade/Com\\u00e9rcio Distr./HYPE3\", \"Financeiro e Outros/Explor Im\\u00f3veis/IGTA3\", \"Financeiro e Outros/Previd  Seguros/IRBR3\", \"Financeiro e Outros/Interms Financs/ITSA4\", \"Financeiro e Outros/Interms Financs/ITUB4\", \"Consumo N\\u00e3o-C\\u00edclico/Alimentos Processados/JBSS3\", \"Consumo C\\u00edclico/Constr Civil/JHSF3\", \"Mats B\\u00e1sicos/Madeira e Papel/KLBN11\", \"Consumo C\\u00edclico/Com\\u00e9rcio/LAME4\", \"Diverso/Diversos/LCAM3\", \"Consumo C\\u00edclico/Com\\u00e9rcio/LREN3\", \"Consumo C\\u00edclico/Com\\u00e9rcio/MGLU3\", \"Consumo N\\u00e3o-C\\u00edclico/Alimentos Processados/MRFG3\", \"Consumo C\\u00edclico/Constr Civil/MRVE3\", \"Financeiro e Outros/Explor Im\\u00f3veis/MULT3\", \"Consumo N\\u00e3o-C\\u00edclico/Pr Pessoal Limp/NTCO3\", \"Consumo N\\u00e3o-C\\u00edclico/Com\\u00e9rcio Distr./PCAR3\", \"Petr\\u00f3leo/G\\u00e1s e Biocombust\\u00edveis/PETR3\", \"Petr\\u00f3leo/G\\u00e1s e Biocombust\\u00edveis/PETR4\", \"Petr\\u00f3leo/G\\u00e1s e Biocombust\\u00edveis/PRIO3\", \"Sa\\u00fade/SM Hosp An.Diag/QUAL3\", \"Sa\\u00fade/Com\\u00e9rcio Distr./RADL3\", \"Bens Indls/Transporte/RAIL3\", \"Diverso/Diversos/RENT3\", \"Financeiro e Outros/Interms Financs/SANB11\", \"Utilidade P\\u00fabl/\\u00c1gua Saneamento/SBSP3\", \"Financeiro e Outros/Previd  Seguros/SULA11\", \"Mats B\\u00e1sicos/Madeira e Papel/SUZB3\", \"Utilidade P\\u00fabl/Energ El\\u00e9trica/TAEE11\", \"Telecomunica\\u00e7\\u00e3/Telecomunica\\u00e7\\u00e3o/TIMS3\", \"Tec.Informa\\u00e7\\u00e3o/Programas Servs/TOTS3\", \"Petr\\u00f3leo/G\\u00e1s e Biocombust\\u00edveis/UGPA3\", \"Mats B\\u00e1sicos/Sid Metalurgia/USIM5\", \"Mats B\\u00e1sicos/Minera\\u00e7\\u00e3o/VALE3\", \"Telecomunica\\u00e7\\u00e3/Telecomunica\\u00e7\\u00e3o/VIVT3\", \"Consumo C\\u00edclico/Com\\u00e9rcio/VVAR3\", \"Bens Indls/M\\u00e1qs e Equips/WEGE3\", \"Diverso/Diversos/YDUQ3\", \"Consumo N\\u00e3o-C\\u00edclico/Alimentos Processados\", \"Consumo N\\u00e3o-C\\u00edclico/Bebidas\", \"Consumo C\\u00edclico/Com\\u00e9rcio\", \"Consumo N\\u00e3o-C\\u00edclico/Com\\u00e9rcio Distr.\", \"Sa\\u00fade/Com\\u00e9rcio Distr.\", \"Consumo C\\u00edclico/Constr Civil\", \"Diverso/Diversos\", \"Utilidade P\\u00fabl/Energ El\\u00e9trica\", \"Financeiro e Outros/Explor Im\\u00f3veis\", \"Petr\\u00f3leo/G\\u00e1s e Biocombust\\u00edveis\", \"Financeiro e Outros/Interms Financs\", \"Mats B\\u00e1sicos/Madeira e Papel\", \"Bens Indls/Mat Transporte\", \"Mats B\\u00e1sicos/Minera\\u00e7\\u00e3o\", \"Bens Indls/M\\u00e1qs e Equips\", \"Consumo N\\u00e3o-C\\u00edclico/Pr Pessoal Limp\", \"Financeiro e Outros/Previd  Seguros\", \"Tec.Informa\\u00e7\\u00e3o/Programas Servs\", \"Mats B\\u00e1sicos/Qu\\u00edmicos\", \"Sa\\u00fade/SM Hosp An.Diag\", \"Financeiro e Outros/Servi\\u00e7os Financeiros Diversos\", \"Mats B\\u00e1sicos/Sid Metalurgia\", \"Consumo C\\u00edclico/Tecid Vest Cal\\u00e7\", \"Telecomunica\\u00e7\\u00e3/Telecomunica\\u00e7\\u00e3o\", \"Bens Indls/Transporte\", \"Consumo C\\u00edclico/Viagens e Lazer\", \"Utilidade P\\u00fabl/\\u00c1gua Saneamento\", \"Bens Indls\", \"Consumo C\\u00edclico\", \"Consumo N\\u00e3o-C\\u00edclico\", \"Diverso\", \"Financeiro e Outros\", \"Mats B\\u00e1sicos\", \"Petr\\u00f3leo\", \"Sa\\u00fade\", \"Tec.Informa\\u00e7\\u00e3o\", \"Telecomunica\\u00e7\\u00e3\", \"Utilidade P\\u00fabl\"], \"labels\": [\"ABEV3\", \"ASAI3\", \"AZUL4\", \"B3SA3\", \"BBAS3\", \"BBDC3\", \"BBDC4\", \"BBSE3\", \"BEEF3\", \"BPAC11\", \"BRAP4\", \"BRDT3\", \"BRFS3\", \"BRKM5\", \"BRML3\", \"BTOW3\", \"CCRO3\", \"CIEL3\", \"CMIG4\", \"COGN3\", \"CPFE3\", \"CPLE6\", \"CRFB3\", \"CSAN3\", \"CSNA3\", \"CVCB3\", \"CYRE3\", \"ECOR3\", \"EGIE3\", \"ELET3\", \"ELET6\", \"EMBR3\", \"ENBR3\", \"ENEV3\", \"ENGI11\", \"EQTL3\", \"EZTC3\", \"FLRY3\", \"GGBR4\", \"GNDI3\", \"GOAU4\", \"GOLL4\", \"HAPV3\", \"HGTX3\", \"HYPE3\", \"IGTA3\", \"IRBR3\", \"ITSA4\", \"ITUB4\", \"JBSS3\", \"JHSF3\", \"KLBN11\", \"LAME4\", \"LCAM3\", \"LREN3\", \"MGLU3\", \"MRFG3\", \"MRVE3\", \"MULT3\", \"NTCO3\", \"PCAR3\", \"PETR3\", \"PETR4\", \"PRIO3\", \"QUAL3\", \"RADL3\", \"RAIL3\", \"RENT3\", \"SANB11\", \"SBSP3\", \"SULA11\", \"SUZB3\", \"TAEE11\", \"TIMS3\", \"TOTS3\", \"UGPA3\", \"USIM5\", \"VALE3\", \"VIVT3\", \"VVAR3\", \"WEGE3\", \"YDUQ3\", \"Alimentos Processados\", \"Bebidas\", \"Com\\u00e9rcio\", \"Com\\u00e9rcio Distr.\", \"Com\\u00e9rcio Distr.\", \"Constr Civil\", \"Diversos\", \"Energ El\\u00e9trica\", \"Explor Im\\u00f3veis\", \"G\\u00e1s e Biocombust\\u00edveis\", \"Interms Financs\", \"Madeira e Papel\", \"Mat Transporte\", \"Minera\\u00e7\\u00e3o\", \"M\\u00e1qs e Equips\", \"Pr Pessoal Limp\", \"Previd  Seguros\", \"Programas Servs\", \"Qu\\u00edmicos\", \"SM Hosp An.Diag\", \"Servi\\u00e7os Financeiros Diversos\", \"Sid Metalurgia\", \"Tecid Vest Cal\\u00e7\", \"Telecomunica\\u00e7\\u00e3o\", \"Transporte\", \"Viagens e Lazer\", \"\\u00c1gua Saneamento\", \"Bens Indls\", \"Consumo C\\u00edclico\", \"Consumo N\\u00e3o-C\\u00edclico\", \"Diverso\", \"Financeiro e Outros\", \"Mats B\\u00e1sicos\", \"Petr\\u00f3leo\", \"Sa\\u00fade\", \"Tec.Informa\\u00e7\\u00e3o\", \"Telecomunica\\u00e7\\u00e3\", \"Utilidade P\\u00fabl\"], \"name\": \"\", \"parents\": [\"Consumo N\\u00e3o-C\\u00edclico/Bebidas\", \"Consumo N\\u00e3o-C\\u00edclico/Com\\u00e9rcio Distr.\", \"Bens Indls/Transporte\", \"Financeiro e Outros/Servi\\u00e7os Financeiros Diversos\", \"Financeiro e Outros/Interms Financs\", \"Financeiro e Outros/Interms Financs\", \"Financeiro e Outros/Interms Financs\", \"Financeiro e Outros/Previd  Seguros\", \"Consumo N\\u00e3o-C\\u00edclico/Alimentos Processados\", \"Financeiro e Outros/Interms Financs\", \"Mats B\\u00e1sicos/Minera\\u00e7\\u00e3o\", \"Petr\\u00f3leo/G\\u00e1s e Biocombust\\u00edveis\", \"Consumo N\\u00e3o-C\\u00edclico/Alimentos Processados\", \"Mats B\\u00e1sicos/Qu\\u00edmicos\", \"Financeiro e Outros/Explor Im\\u00f3veis\", \"Consumo C\\u00edclico/Com\\u00e9rcio\", \"Bens Indls/Transporte\", \"Financeiro e Outros/Servi\\u00e7os Financeiros Diversos\", \"Utilidade P\\u00fabl/Energ El\\u00e9trica\", \"Diverso/Diversos\", \"Utilidade P\\u00fabl/Energ El\\u00e9trica\", \"Utilidade P\\u00fabl/Energ El\\u00e9trica\", \"Consumo N\\u00e3o-C\\u00edclico/Com\\u00e9rcio Distr.\", \"Petr\\u00f3leo/G\\u00e1s e Biocombust\\u00edveis\", \"Mats B\\u00e1sicos/Sid Metalurgia\", \"Consumo C\\u00edclico/Viagens e Lazer\", \"Consumo C\\u00edclico/Constr Civil\", \"Bens Indls/Transporte\", \"Utilidade P\\u00fabl/Energ El\\u00e9trica\", \"Utilidade P\\u00fabl/Energ El\\u00e9trica\", \"Utilidade P\\u00fabl/Energ El\\u00e9trica\", \"Bens Indls/Mat Transporte\", \"Utilidade P\\u00fabl/Energ El\\u00e9trica\", \"Utilidade P\\u00fabl/Energ El\\u00e9trica\", \"Utilidade P\\u00fabl/Energ El\\u00e9trica\", \"Utilidade P\\u00fabl/Energ El\\u00e9trica\", \"Consumo C\\u00edclico/Constr Civil\", \"Sa\\u00fade/SM Hosp An.Diag\", \"Mats B\\u00e1sicos/Sid Metalurgia\", \"Sa\\u00fade/SM Hosp An.Diag\", \"Mats B\\u00e1sicos/Sid Metalurgia\", \"Bens Indls/Transporte\", \"Sa\\u00fade/SM Hosp An.Diag\", \"Consumo C\\u00edclico/Tecid Vest Cal\\u00e7\", \"Sa\\u00fade/Com\\u00e9rcio Distr.\", \"Financeiro e Outros/Explor Im\\u00f3veis\", \"Financeiro e Outros/Previd  Seguros\", \"Financeiro e Outros/Interms Financs\", \"Financeiro e Outros/Interms Financs\", \"Consumo N\\u00e3o-C\\u00edclico/Alimentos Processados\", \"Consumo C\\u00edclico/Constr Civil\", \"Mats B\\u00e1sicos/Madeira e Papel\", \"Consumo C\\u00edclico/Com\\u00e9rcio\", \"Diverso/Diversos\", \"Consumo C\\u00edclico/Com\\u00e9rcio\", \"Consumo C\\u00edclico/Com\\u00e9rcio\", \"Consumo N\\u00e3o-C\\u00edclico/Alimentos Processados\", \"Consumo C\\u00edclico/Constr Civil\", \"Financeiro e Outros/Explor Im\\u00f3veis\", \"Consumo N\\u00e3o-C\\u00edclico/Pr Pessoal Limp\", \"Consumo N\\u00e3o-C\\u00edclico/Com\\u00e9rcio Distr.\", \"Petr\\u00f3leo/G\\u00e1s e Biocombust\\u00edveis\", \"Petr\\u00f3leo/G\\u00e1s e Biocombust\\u00edveis\", \"Petr\\u00f3leo/G\\u00e1s e Biocombust\\u00edveis\", \"Sa\\u00fade/SM Hosp An.Diag\", \"Sa\\u00fade/Com\\u00e9rcio Distr.\", \"Bens Indls/Transporte\", \"Diverso/Diversos\", \"Financeiro e Outros/Interms Financs\", \"Utilidade P\\u00fabl/\\u00c1gua Saneamento\", \"Financeiro e Outros/Previd  Seguros\", \"Mats B\\u00e1sicos/Madeira e Papel\", \"Utilidade P\\u00fabl/Energ El\\u00e9trica\", \"Telecomunica\\u00e7\\u00e3/Telecomunica\\u00e7\\u00e3o\", \"Tec.Informa\\u00e7\\u00e3o/Programas Servs\", \"Petr\\u00f3leo/G\\u00e1s e Biocombust\\u00edveis\", \"Mats B\\u00e1sicos/Sid Metalurgia\", \"Mats B\\u00e1sicos/Minera\\u00e7\\u00e3o\", \"Telecomunica\\u00e7\\u00e3/Telecomunica\\u00e7\\u00e3o\", \"Consumo C\\u00edclico/Com\\u00e9rcio\", \"Bens Indls/M\\u00e1qs e Equips\", \"Diverso/Diversos\", \"Consumo N\\u00e3o-C\\u00edclico\", \"Consumo N\\u00e3o-C\\u00edclico\", \"Consumo C\\u00edclico\", \"Consumo N\\u00e3o-C\\u00edclico\", \"Sa\\u00fade\", \"Consumo C\\u00edclico\", \"Diverso\", \"Utilidade P\\u00fabl\", \"Financeiro e Outros\", \"Petr\\u00f3leo\", \"Financeiro e Outros\", \"Mats B\\u00e1sicos\", \"Bens Indls\", \"Mats B\\u00e1sicos\", \"Bens Indls\", \"Consumo N\\u00e3o-C\\u00edclico\", \"Financeiro e Outros\", \"Tec.Informa\\u00e7\\u00e3o\", \"Mats B\\u00e1sicos\", \"Sa\\u00fade\", \"Financeiro e Outros\", \"Mats B\\u00e1sicos\", \"Consumo C\\u00edclico\", \"Telecomunica\\u00e7\\u00e3\", \"Bens Indls\", \"Consumo C\\u00edclico\", \"Utilidade P\\u00fabl\", \"\", \"\", \"\", \"\", \"\", \"\", \"\", \"\", \"\", \"\", \"\"], \"textfont\": {\"color\": \"white\", \"size\": 14}, \"type\": \"treemap\", \"values\": [3.1460000000000004, 0.574, 0.563, 4.794, 1.7309999999999999, 1.19, 5.004, 0.723, 0.122, 1.192, 0.732, 1.155, 0.898, 0.584, 0.376, 0.626, 0.628, 0.18600000000000003, 0.5660000000000001, 0.34600000000000003, 0.261, 0.375, 0.41100000000000003, 0.664, 1.375, 0.168, 0.32299999999999995, 0.08800000000000001, 0.48100000000000004, 0.557, 0.382, 0.535, 0.214, 0.865, 0.491, 1.129, 0.147, 0.374, 1.479, 2.1959999999999997, 0.46299999999999997, 0.14400000000000002, 0.746, 0.126, 0.652, 0.147, 0.35700000000000004, 2.109, 5.985, 2.356, 0.091, 1.079, 0.893, 0.385, 1.4980000000000002, 2.697, 0.324, 0.251, 0.299, 2.023, 0.26, 3.451, 4.7989999999999995, 0.732, 0.37799999999999995, 1.219, 1.1420000000000001, 1.714, 0.625, 0.6579999999999999, 0.431, 2.379, 0.39, 0.45399999999999996, 0.684, 1.045, 0.491, 13.972999999999999, 0.8859999999999999, 0.9309999999999999, 2.641, 0.441, 3.6999999999999997, 3.1460000000000004, 6.6450000000000005, 1.245, 1.871, 0.8119999999999999, 2.886, 5.710999999999999, 0.8220000000000001, 11.845999999999998, 17.836, 3.458, 0.535, 14.704999999999998, 2.641, 2.023, 1.5110000000000001, 0.684, 0.584, 3.694, 4.9799999999999995, 3.8080000000000003, 0.126, 1.3399999999999999, 2.5650000000000004, 0.168, 0.6579999999999999, 5.7410000000000005, 7.751000000000002, 10.113999999999999, 2.886, 25.149, 22.555, 11.845999999999998, 5.5649999999999995, 0.684, 1.3399999999999999, 6.368999999999999]}],                        {\"height\": 900, \"legend\": {\"tracegroupgap\": 0}, \"margin\": {\"t\": 60}, \"template\": {\"data\": {\"bar\": [{\"error_x\": {\"color\": \"#2a3f5f\"}, \"error_y\": {\"color\": \"#2a3f5f\"}, \"marker\": {\"line\": {\"color\": \"#E5ECF6\", \"width\": 0.5}}, \"type\": \"bar\"}], \"barpolar\": [{\"marker\": {\"line\": {\"color\": \"#E5ECF6\", \"width\": 0.5}}, \"type\": \"barpolar\"}], \"carpet\": [{\"aaxis\": {\"endlinecolor\": \"#2a3f5f\", \"gridcolor\": \"white\", \"linecolor\": \"white\", \"minorgridcolor\": \"white\", \"startlinecolor\": \"#2a3f5f\"}, \"baxis\": {\"endlinecolor\": \"#2a3f5f\", \"gridcolor\": \"white\", \"linecolor\": \"white\", \"minorgridcolor\": \"white\", \"startlinecolor\": \"#2a3f5f\"}, \"type\": \"carpet\"}], \"choropleth\": [{\"colorbar\": {\"outlinewidth\": 0, \"ticks\": \"\"}, \"type\": \"choropleth\"}], \"contour\": [{\"colorbar\": {\"outlinewidth\": 0, \"ticks\": \"\"}, \"colorscale\": [[0.0, \"#0d0887\"], [0.1111111111111111, \"#46039f\"], [0.2222222222222222, \"#7201a8\"], [0.3333333333333333, \"#9c179e\"], [0.4444444444444444, \"#bd3786\"], [0.5555555555555556, \"#d8576b\"], [0.6666666666666666, \"#ed7953\"], [0.7777777777777778, \"#fb9f3a\"], [0.8888888888888888, \"#fdca26\"], [1.0, \"#f0f921\"]], \"type\": \"contour\"}], \"contourcarpet\": [{\"colorbar\": {\"outlinewidth\": 0, \"ticks\": \"\"}, \"type\": \"contourcarpet\"}], \"heatmap\": [{\"colorbar\": {\"outlinewidth\": 0, \"ticks\": \"\"}, \"colorscale\": [[0.0, \"#0d0887\"], [0.1111111111111111, \"#46039f\"], [0.2222222222222222, \"#7201a8\"], [0.3333333333333333, \"#9c179e\"], [0.4444444444444444, \"#bd3786\"], [0.5555555555555556, \"#d8576b\"], [0.6666666666666666, \"#ed7953\"], [0.7777777777777778, \"#fb9f3a\"], [0.8888888888888888, \"#fdca26\"], [1.0, \"#f0f921\"]], \"type\": \"heatmap\"}], \"heatmapgl\": [{\"colorbar\": {\"outlinewidth\": 0, \"ticks\": \"\"}, \"colorscale\": [[0.0, \"#0d0887\"], [0.1111111111111111, \"#46039f\"], [0.2222222222222222, \"#7201a8\"], [0.3333333333333333, \"#9c179e\"], [0.4444444444444444, \"#bd3786\"], [0.5555555555555556, \"#d8576b\"], [0.6666666666666666, \"#ed7953\"], [0.7777777777777778, \"#fb9f3a\"], [0.8888888888888888, \"#fdca26\"], [1.0, \"#f0f921\"]], \"type\": \"heatmapgl\"}], \"histogram\": [{\"marker\": {\"colorbar\": {\"outlinewidth\": 0, \"ticks\": \"\"}}, \"type\": \"histogram\"}], \"histogram2d\": [{\"colorbar\": {\"outlinewidth\": 0, \"ticks\": \"\"}, \"colorscale\": [[0.0, \"#0d0887\"], [0.1111111111111111, \"#46039f\"], [0.2222222222222222, \"#7201a8\"], [0.3333333333333333, \"#9c179e\"], [0.4444444444444444, \"#bd3786\"], [0.5555555555555556, \"#d8576b\"], [0.6666666666666666, \"#ed7953\"], [0.7777777777777778, \"#fb9f3a\"], [0.8888888888888888, \"#fdca26\"], [1.0, \"#f0f921\"]], \"type\": \"histogram2d\"}], \"histogram2dcontour\": [{\"colorbar\": {\"outlinewidth\": 0, \"ticks\": \"\"}, \"colorscale\": [[0.0, \"#0d0887\"], [0.1111111111111111, \"#46039f\"], [0.2222222222222222, \"#7201a8\"], [0.3333333333333333, \"#9c179e\"], [0.4444444444444444, \"#bd3786\"], [0.5555555555555556, \"#d8576b\"], [0.6666666666666666, \"#ed7953\"], [0.7777777777777778, \"#fb9f3a\"], [0.8888888888888888, \"#fdca26\"], [1.0, \"#f0f921\"]], \"type\": \"histogram2dcontour\"}], \"mesh3d\": [{\"colorbar\": {\"outlinewidth\": 0, \"ticks\": \"\"}, \"type\": \"mesh3d\"}], \"parcoords\": [{\"line\": {\"colorbar\": {\"outlinewidth\": 0, \"ticks\": \"\"}}, \"type\": \"parcoords\"}], \"pie\": [{\"automargin\": true, \"type\": \"pie\"}], \"scatter\": [{\"marker\": {\"colorbar\": {\"outlinewidth\": 0, \"ticks\": \"\"}}, \"type\": \"scatter\"}], \"scatter3d\": [{\"line\": {\"colorbar\": {\"outlinewidth\": 0, \"ticks\": \"\"}}, \"marker\": {\"colorbar\": {\"outlinewidth\": 0, \"ticks\": \"\"}}, \"type\": \"scatter3d\"}], \"scattercarpet\": [{\"marker\": {\"colorbar\": {\"outlinewidth\": 0, \"ticks\": \"\"}}, \"type\": \"scattercarpet\"}], \"scattergeo\": [{\"marker\": {\"colorbar\": {\"outlinewidth\": 0, \"ticks\": \"\"}}, \"type\": \"scattergeo\"}], \"scattergl\": [{\"marker\": {\"colorbar\": {\"outlinewidth\": 0, \"ticks\": \"\"}}, \"type\": \"scattergl\"}], \"scattermapbox\": [{\"marker\": {\"colorbar\": {\"outlinewidth\": 0, \"ticks\": \"\"}}, \"type\": \"scattermapbox\"}], \"scatterpolar\": [{\"marker\": {\"colorbar\": {\"outlinewidth\": 0, \"ticks\": \"\"}}, \"type\": \"scatterpolar\"}], \"scatterpolargl\": [{\"marker\": {\"colorbar\": {\"outlinewidth\": 0, \"ticks\": \"\"}}, \"type\": \"scatterpolargl\"}], \"scatterternary\": [{\"marker\": {\"colorbar\": {\"outlinewidth\": 0, \"ticks\": \"\"}}, \"type\": \"scatterternary\"}], \"surface\": [{\"colorbar\": {\"outlinewidth\": 0, \"ticks\": \"\"}, \"colorscale\": [[0.0, \"#0d0887\"], [0.1111111111111111, \"#46039f\"], [0.2222222222222222, \"#7201a8\"], [0.3333333333333333, \"#9c179e\"], [0.4444444444444444, \"#bd3786\"], [0.5555555555555556, \"#d8576b\"], [0.6666666666666666, \"#ed7953\"], [0.7777777777777778, \"#fb9f3a\"], [0.8888888888888888, \"#fdca26\"], [1.0, \"#f0f921\"]], \"type\": \"surface\"}], \"table\": [{\"cells\": {\"fill\": {\"color\": \"#EBF0F8\"}, \"line\": {\"color\": \"white\"}}, \"header\": {\"fill\": {\"color\": \"#C8D4E3\"}, \"line\": {\"color\": \"white\"}}, \"type\": \"table\"}]}, \"layout\": {\"annotationdefaults\": {\"arrowcolor\": \"#2a3f5f\", \"arrowhead\": 0, \"arrowwidth\": 1}, \"autotypenumbers\": \"strict\", \"coloraxis\": {\"colorbar\": {\"outlinewidth\": 0, \"ticks\": \"\"}}, \"colorscale\": {\"diverging\": [[0, \"#8e0152\"], [0.1, \"#c51b7d\"], [0.2, \"#de77ae\"], [0.3, \"#f1b6da\"], [0.4, \"#fde0ef\"], [0.5, \"#f7f7f7\"], [0.6, \"#e6f5d0\"], [0.7, \"#b8e186\"], [0.8, \"#7fbc41\"], [0.9, \"#4d9221\"], [1, \"#276419\"]], \"sequential\": [[0.0, \"#0d0887\"], [0.1111111111111111, \"#46039f\"], [0.2222222222222222, \"#7201a8\"], [0.3333333333333333, \"#9c179e\"], [0.4444444444444444, \"#bd3786\"], [0.5555555555555556, \"#d8576b\"], [0.6666666666666666, \"#ed7953\"], [0.7777777777777778, \"#fb9f3a\"], [0.8888888888888888, \"#fdca26\"], [1.0, \"#f0f921\"]], \"sequentialminus\": [[0.0, \"#0d0887\"], [0.1111111111111111, \"#46039f\"], [0.2222222222222222, \"#7201a8\"], [0.3333333333333333, \"#9c179e\"], [0.4444444444444444, \"#bd3786\"], [0.5555555555555556, \"#d8576b\"], [0.6666666666666666, \"#ed7953\"], [0.7777777777777778, \"#fb9f3a\"], [0.8888888888888888, \"#fdca26\"], [1.0, \"#f0f921\"]]}, \"colorway\": [\"#636efa\", \"#EF553B\", \"#00cc96\", \"#ab63fa\", \"#FFA15A\", \"#19d3f3\", \"#FF6692\", \"#B6E880\", \"#FF97FF\", \"#FECB52\"], \"font\": {\"color\": \"#2a3f5f\"}, \"geo\": {\"bgcolor\": \"white\", \"lakecolor\": \"white\", \"landcolor\": \"#E5ECF6\", \"showlakes\": true, \"showland\": true, \"subunitcolor\": \"white\"}, \"hoverlabel\": {\"align\": \"left\"}, \"hovermode\": \"closest\", \"mapbox\": {\"style\": \"light\"}, \"paper_bgcolor\": \"white\", \"plot_bgcolor\": \"#E5ECF6\", \"polar\": {\"angularaxis\": {\"gridcolor\": \"white\", \"linecolor\": \"white\", \"ticks\": \"\"}, \"bgcolor\": \"#E5ECF6\", \"radialaxis\": {\"gridcolor\": \"white\", \"linecolor\": \"white\", \"ticks\": \"\"}}, \"scene\": {\"xaxis\": {\"backgroundcolor\": \"#E5ECF6\", \"gridcolor\": \"white\", \"gridwidth\": 2, \"linecolor\": \"white\", \"showbackground\": true, \"ticks\": \"\", \"zerolinecolor\": \"white\"}, \"yaxis\": {\"backgroundcolor\": \"#E5ECF6\", \"gridcolor\": \"white\", \"gridwidth\": 2, \"linecolor\": \"white\", \"showbackground\": true, \"ticks\": \"\", \"zerolinecolor\": \"white\"}, \"zaxis\": {\"backgroundcolor\": \"#E5ECF6\", \"gridcolor\": \"white\", \"gridwidth\": 2, \"linecolor\": \"white\", \"showbackground\": true, \"ticks\": \"\", \"zerolinecolor\": \"white\"}}, \"shapedefaults\": {\"line\": {\"color\": \"#2a3f5f\"}}, \"ternary\": {\"aaxis\": {\"gridcolor\": \"white\", \"linecolor\": \"white\", \"ticks\": \"\"}, \"baxis\": {\"gridcolor\": \"white\", \"linecolor\": \"white\", \"ticks\": \"\"}, \"bgcolor\": \"#E5ECF6\", \"caxis\": {\"gridcolor\": \"white\", \"linecolor\": \"white\", \"ticks\": \"\"}}, \"title\": {\"x\": 0.05}, \"xaxis\": {\"automargin\": true, \"gridcolor\": \"white\", \"linecolor\": \"white\", \"ticks\": \"\", \"title\": {\"standoff\": 15}, \"zerolinecolor\": \"white\", \"zerolinewidth\": 2}, \"yaxis\": {\"automargin\": true, \"gridcolor\": \"white\", \"linecolor\": \"white\", \"ticks\": \"\", \"title\": {\"standoff\": 15}, \"zerolinecolor\": \"white\", \"zerolinewidth\": 2}}}},                        {\"responsive\": true}                    ).then(function(){\n",
              "                            \n",
              "var gd = document.getElementById('b82aeca4-169d-4664-ad0b-aae0e54194a6');\n",
              "var x = new MutationObserver(function (mutations, observer) {{\n",
              "        var display = window.getComputedStyle(gd).display;\n",
              "        if (!display || display === 'none') {{\n",
              "            console.log([gd, 'removed!']);\n",
              "            Plotly.purge(gd);\n",
              "            observer.disconnect();\n",
              "        }}\n",
              "}});\n",
              "\n",
              "// Listen for the removal of the full notebook cells\n",
              "var notebookContainer = gd.closest('#notebook-container');\n",
              "if (notebookContainer) {{\n",
              "    x.observe(notebookContainer, {childList: true});\n",
              "}}\n",
              "\n",
              "// Listen for the clearing of the current output cell\n",
              "var outputEl = gd.closest('.output');\n",
              "if (outputEl) {{\n",
              "    x.observe(outputEl, {childList: true});\n",
              "}}\n",
              "\n",
              "                        })                };                            </script>        </div>\n",
              "</body>\n",
              "</html>"
            ]
          },
          "metadata": {
            "tags": []
          }
        }
      ]
    },
    {
      "cell_type": "code",
      "metadata": {
        "id": "o02m4gE6ny3f"
      },
      "source": [
        ""
      ],
      "execution_count": null,
      "outputs": []
    }
  ]
}